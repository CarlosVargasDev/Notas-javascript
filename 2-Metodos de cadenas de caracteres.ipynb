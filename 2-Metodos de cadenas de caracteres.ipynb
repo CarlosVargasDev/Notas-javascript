{
 "cells": [
  {
   "cell_type": "markdown",
   "id": "6bc28ed1",
   "metadata": {},
   "source": [
    "# Metodos con cadenas"
   ]
  },
  {
   "cell_type": "markdown",
   "id": "116afa01",
   "metadata": {},
   "source": [
    "## startWith - endsWith\n",
    "Solo funciona en tipo de dato cadena.\n",
    "Las funciones son caseSentitive, es decir que distingen entre mayusculas y minusculas."
   ]
  },
  {
   "cell_type": "code",
   "execution_count": 22,
   "id": "6105c375",
   "metadata": {},
   "outputs": [
    {
     "name": "stdout",
     "output_type": "stream",
     "text": [
      "false\n",
      "true\n",
      "true\n",
      "-1\n",
      "false\n",
      "true\n"
     ]
    }
   ],
   "source": [
    "var saludo = \"Hola Mundo\"\n",
    "\n",
    "console.log( saludo.substr(0,1) == 'h' );  //Forma antigua\n",
    "\n",
    "console.log( saludo.startsWith(\"Hola\") ); //Devuelve true\n",
    "console.log( saludo.endsWith(\"Mundo\")); //Devueve true\n",
    "\n",
    "console.log( saludo.indexOf(\"x\")); //Devuelve la posicion en la que encuantra la 'x', si no la encontro devuelve -1 \n",
    "console.log( saludo.includes(\"x\")); //Devuelve true or false, hacen distion entre mayuscula y minuscula\n",
    "\n",
    "//LAs funciones (startsWith, endsWith, includes), pueden recivir otro parametros el cual \n",
    "//indica a partir de que caracter empesar a buscar, em empieza  a contar desde el 1, no el 0\n",
    "console.log( saludo.startsWith(\"Mu\",5) ); //Devuelve true\n"
   ]
  },
  {
   "cell_type": "markdown",
   "id": "1c0df1e6",
   "metadata": {},
   "source": [
    "## Repeat\n",
    "Se usa para repetir cierta cadena."
   ]
  },
  {
   "cell_type": "code",
   "execution_count": 1,
   "id": "0cb47f46",
   "metadata": {},
   "outputs": [
    {
     "name": "stdout",
     "output_type": "stream",
     "text": [
      "HolaHola\n",
      "textotexto\n",
      "user1       |pass1\n",
      "user2       |pass2\n",
      "user3       |pass3\n"
     ]
    }
   ],
   "source": [
    "var texto = \"Hola\"\n",
    "\n",
    "console.log( texto.repeat(2))\n",
    "console.log( \"texto\".repeat(2))\n",
    "\n",
    "\n",
    "//Ejemplo de uso, para formatear una cadena\n",
    "const ESPACIOS = 12;\n",
    "let users = ['user1','user2', 'user3'];\n",
    "let pass = ['pass1','pass2', 'pass3'];\n",
    "for(i in users){ //Obtenemos el indice de cada usuario\n",
    "    let diferencia = ESPACIOS - users[i].length;\n",
    "    console.log( users[i] + \" \".repeat(diferencia) + '|' + pass[i])\n",
    "}\n",
    "\n"
   ]
  },
  {
   "cell_type": "markdown",
   "id": "ea6f1bf5",
   "metadata": {},
   "source": [
    "## Literal templates\n",
    "Sirve para poder inscrustar codigo dentro de una cadena, dentro del template se puede inscrustar codigo javascript puro."
   ]
  },
  {
   "cell_type": "code",
   "execution_count": 2,
   "id": "3ce09173",
   "metadata": {},
   "outputs": [
    {
     "name": "stdout",
     "output_type": "stream",
     "text": [
      "Salida del temaple es: Juan Carlos\n",
      "Salida del temaple es: Esta es una funcion\n",
      "Salida\n",
      "    Multi \n",
      "        -Linea\n"
     ]
    }
   ],
   "source": [
    "var miVar = 'Juan Carlos'\n",
    "var algo = ()=>{\n",
    "    return 'Esta es una funcion'\n",
    "}\n",
    "var template = `Salida del temaple es: ${miVar}`;\n",
    "var templateV2 = `Salida del temaple es: ${algo()}`;\n",
    "var templateV3 = `Salida\n",
    "    Multi \n",
    "        -Linea`;\n",
    "console.log(template);\n",
    "console.log(templateV2);\n",
    "console.log(templateV3);\n"
   ]
  },
  {
   "cell_type": "markdown",
   "id": "b7f526c5",
   "metadata": {},
   "source": [
    "## Literal temaplates con tags\n",
    "\n",
    "Los tags solo funcionan con templates literals. \n",
    "\n",
    "Una etiqueda es una funcion que se va a disparar cuando se este ejecutando el temaplate literal. El tag puede evaluar y cambiar completamente el template literal antes de mostrarse. \n",
    "\n",
    "//Toda funcion en Js, aunque no tenga parametos explicitos en su definicion, siempre recive parametros y todo lo que se envie siempre cae en un objeto llamado **arguments**. arguments es un arreglo, el primer elemento del arreglo es otro arreglo que tiene los literales. Los otros valores del arreglo, son los remplazos que se van a inscrustar dentro del template literal.\n",
    "\n",
    "//El operador spread, permite un gran control en los templates literales, esto puede ser parecido a las pipes que se encuentran en angular."
   ]
  },
  {
   "cell_type": "code",
   "execution_count": 17,
   "id": "613d5cb1",
   "metadata": {},
   "outputs": [
    {
     "name": "stdout",
     "output_type": "stream",
     "text": [
      "[ 'Los ', ' lapices cuestan en total: ', '' ]\n",
      "[ 5, 100 ]\n"
     ]
    },
    {
     "data": {
      "text/plain": [
       "'Los 5 lapices cuestan en total: 100'"
      ]
     },
     "execution_count": 17,
     "metadata": {},
     "output_type": "execute_result"
    }
   ],
   "source": [
    "var etiqueta = (literales, ...substituciones)=>{\n",
    "    console.log(literales) //Imprimer el primer arreglo del objeto arguments\n",
    "    console.log(substituciones) //Imprime los reemplazos que se van a inscrustar dentro del template literal\n",
    "    let resultado = \"\";\n",
    "    for(let i =0; i<substituciones.length; i++){\n",
    "        resultado += literales[i];\n",
    "        resultado += substituciones[i];\n",
    "    }\n",
    "    \n",
    "    return resultado;\n",
    "}\n",
    "\n",
    "var mensaje = etiqueta`Los ${ 5} lapices cuestan en total: ${5*20}`\n",
    "mensaje"
   ]
  },
  {
   "cell_type": "markdown",
   "id": "834aa659",
   "metadata": {},
   "source": [
    "## Usanro valores \"raw(crudos\" en temeplates\n",
    "La función String.raw, nos permite trabajar con todos los caracteres de una cadena de texto(incluyendo caracteres especiales)\n",
    "\n",
    "El raw es un tag y solo funciona en los templates literal."
   ]
  },
  {
   "cell_type": "code",
   "execution_count": 21,
   "id": "b31084d0",
   "metadata": {},
   "outputs": [
    {
     "name": "stdout",
     "output_type": "stream",
     "text": [
      "cadena1:Hola \n",
      " Mundo\\\n",
      "\n",
      "cadena2:Hola \\n Mundo\\\\\n"
     ]
    }
   ],
   "source": [
    "var mensaje = `Hola \\n Mundo\\\\`;\n",
    "var mensaje2= String.raw`Hola \\n Mundo\\\\`;\n",
    "console.log('cadena1:'+ mensaje+ '\\n'); \n",
    "\n",
    "console.log('cadena2:'+mensaje2); //Mensaje en crudo, es decir sin el formato de los caracteres especiales\n",
    "\n",
    "\n"
   ]
  },
  {
   "cell_type": "code",
   "execution_count": null,
   "id": "7aa51ab5",
   "metadata": {},
   "outputs": [],
   "source": []
  }
 ],
 "metadata": {
  "kernelspec": {
   "display_name": "Javascript (Node.js)",
   "language": "javascript",
   "name": "javascript"
  },
  "language_info": {
   "file_extension": ".js",
   "mimetype": "application/javascript",
   "name": "javascript",
   "version": "14.17.1"
  }
 },
 "nbformat": 4,
 "nbformat_minor": 5
}
