{
 "cells": [
  {
   "cell_type": "markdown",
   "id": "104edcac",
   "metadata": {},
   "source": [
    "# Simbolos - Symbos\n",
    "\n",
    "Son un tio de dato nuevo. Los tipos de datos ahora en el ES6 son:\n",
    "* undefined\n",
    "* null\n",
    "* boolean\n",
    "* number\n",
    "* string\n",
    "* object\n",
    "* symbols\n",
    "\n",
    "Supon"
   ]
  },
  {
   "cell_type": "markdown",
   "id": "e1f7e95c",
   "metadata": {},
   "source": [
    "## Introduccion a los simbolos\n",
    "Son buenos para crar nombres de propiedades y que no colicionen con otras liberias. Su caracteristicas principal es que siempre son diferentes. \n",
    "\n",
    "Los símbolos no tienen constructores, por lo que si se intentan llamar con el \"NEW\", dará: TypeError: Symbol is not a constructor at new Symbol. \n",
    "\n",
    "\n",
    "Las propiedades con simbolos, se deben de llamar siempre con las llaves cuadradas \"[ ]\" si no, es como querer accesar una propiedad que no esta definida en el objeto.\n",
    "\n"
   ]
  },
  {
   "cell_type": "code",
   "execution_count": 8,
   "id": "dade6be9",
   "metadata": {},
   "outputs": [
    {
     "name": "stdout",
     "output_type": "stream",
     "text": [
      "Juan\n",
      "Carlos\n",
      "Symbol()\n",
      "Symbol(MiAlias)\n"
     ]
    }
   ],
   "source": [
    "var primerNombre = Symbol()\n",
    "var segundoNombre = Symbol(\"MiAlias\")\n",
    "var persona = {  \n",
    "};\n",
    "\n",
    "persona[primerNombre] = 'Juan'\n",
    "persona[segundoNombre] = 'Carlos'\n",
    "console.log(persona[primerNombre]);\n",
    "console.log(persona[segundoNombre]);\n",
    "\n",
    "console.log(primerNombre); //Alias\n",
    "console.log(segundoNombre); //Alias"
   ]
  },
  {
   "cell_type": "code",
   "execution_count": 12,
   "id": "363d64ac",
   "metadata": {},
   "outputs": [
    {
     "name": "stdout",
     "output_type": "stream",
     "text": [
      "false\n",
      "false\n",
      "false\n",
      "------------------------\n",
      "Simbolo1\n",
      "Simbolo2\n"
     ]
    }
   ],
   "source": [
    "// Ejemplo 2; LA caracteristica principal de los simbolos es que siempre son diferentes aunque\n",
    "//Tengan el mismo alias\n",
    "var simbolo1 = Symbol(\"Algo\");\n",
    "var simbolo2 = Symbol(\"Algo\");\n",
    "console.log(simbolo1 == simbolo2);\n",
    "console.log(simbolo1 === simbolo2);\n",
    "console.log( Object.is(simbolo1,simbolo2));\n",
    "\n",
    "\n",
    "\n",
    "console.log(\"------------------------\");\n",
    "var persona2 = {  \n",
    "};\n",
    "persona2[simbolo1] = \"Simbolo1\";\n",
    "persona2[simbolo2] = \"Simbolo2\";\n",
    "console.log(persona2[simbolo1]);\n",
    "console.log(persona2[simbolo2]);\n",
    "\n"
   ]
  },
  {
   "cell_type": "markdown",
   "id": "c5c6d019",
   "metadata": {},
   "source": [
    "## Compartiendo simbolos- Symbol.for() y Symbol.keyFor()\n",
    "Existe un lugar donde se encuentrar los Symbols compartidos y se llama pool\n",
    "* Symbol.for(): para crear un simbolo(dentro de pool), y en caso de que exista entonces usarlo\n",
    "* Symbol.keyFor(): para obtener un simbolo(dentro de pool apartir de una variable de tipo simbolo"
   ]
  },
  {
   "cell_type": "code",
   "execution_count": 20,
   "id": "f2e81823",
   "metadata": {},
   "outputs": [
    {
     "name": "stdout",
     "output_type": "stream",
     "text": [
      "12345\n",
      "Symbol(userID)\n"
     ]
    }
   ],
   "source": [
    "var userID = Symbol.for(\"userID\"); //Para verificar que ese simbolo no ha sido creado anteriormente\n",
    "                                    //En caso de que exista, usarlo\n",
    "var objeto = {};\n",
    "objeto[userID] = \"12345\";\n",
    "console.log(objeto[userID]);\n",
    "console.log(userID)\n"
   ]
  },
  {
   "cell_type": "code",
   "execution_count": 21,
   "id": "9c17e88c",
   "metadata": {},
   "outputs": [
    {
     "name": "stdout",
     "output_type": "stream",
     "text": [
      "true\n",
      "true\n",
      "true\n"
     ]
    }
   ],
   "source": [
    "var userID2 = Symbol.for(\"userID\"); //Esto es para hacer referencia al simbolo que hicimos previamente\n",
    "console.log(userID == userID2); //True \n",
    "console.log(userID === userID2); //True\n",
    "console.log( Object.is(userID,userID2) ) ;//True"
   ]
  },
  {
   "cell_type": "code",
   "execution_count": 22,
   "id": "43af20cc",
   "metadata": {},
   "outputs": [
    {
     "name": "stdout",
     "output_type": "stream",
     "text": [
      "id unico\n",
      "true\n"
     ]
    }
   ],
   "source": [
    "var id = Symbol.for(\"id unico\");\n",
    "console.log(Symbol.keyFor(id));\n",
    "\n",
    "var id2 = Symbol.for(\"id unico\");\n",
    "console.log(id2 == id);"
   ]
  },
  {
   "cell_type": "code",
   "execution_count": 28,
   "id": "1e6c76e4",
   "metadata": {},
   "outputs": [
    {
     "name": "stdout",
     "output_type": "stream",
     "text": [
      "undefined\n"
     ]
    }
   ],
   "source": [
    "var id3 = Symbol(\"id unico\") //Este no esta dentro del repositorio compartido, o el pool\n",
    "console.log(Symbol.keyFor(id3)) //Da undefined \n"
   ]
  },
  {
   "cell_type": "markdown",
   "id": "a214c672",
   "metadata": {},
   "source": [
    "## Coercion de los Symbols\n",
    "Esto es para ayudar a imprimir los simbolos junto con una cadena"
   ]
  },
  {
   "cell_type": "code",
   "execution_count": 34,
   "id": "0b4db0f6",
   "metadata": {},
   "outputs": [
    {
     "name": "stdout",
     "output_type": "stream",
     "text": [
      "Symbol(id) 10\n",
      "Symbol(id)10\n",
      "1010\n",
      "10true\n",
      "2\n",
      "true true\n"
     ]
    }
   ],
   "source": [
    "var id= Symbol.for(\"id\");\n",
    "var numero= 10;\n",
    "var texto= \"10\"\n",
    "var bool=true;\n",
    "var NotAN = NaN\n",
    "\n",
    "//console.log(id + texto); //Tiraria un error\n",
    "console.log(id, texto); //OK\n",
    "console.log(String(id) + texto); //OK\n",
    "console.log(texto + numero); //OK\n",
    "console.log(texto  + bool); //OK\n",
    "console.log(bool + bool); //OK, aqui combierte cada bool a number(1) y los suma\n",
    "console.log(bool, bool); //OK, con la coma lo pasa como sin conbertilo a numero\n"
   ]
  },
  {
   "cell_type": "markdown",
   "id": "ec3ac68c",
   "metadata": {},
   "source": [
    "## Recuperando las propiedades simbolo."
   ]
  },
  {
   "cell_type": "code",
   "execution_count": 40,
   "id": "d9286f25",
   "metadata": {},
   "outputs": [
    {
     "name": "stdout",
     "output_type": "stream",
     "text": [
      "propiedad1\n",
      "propiead2\n",
      "propieadd3\n",
      "[ Symbol(id) ]\n",
      "Symbol(id) id\n"
     ]
    }
   ],
   "source": [
    "//Recuperando propiedades de un objeto\n",
    "var id = Symbol.for(\"id\")\n",
    "var miObject = {\n",
    "    [id]:\"sk692k45\",\n",
    "    propiedad1:\"a\",\n",
    "    propiead2:\"b\",\n",
    "    propieadd3:\"c\"\n",
    "}\n",
    "//De esta forma no aparecen los simbolos\n",
    "for(propiedad in miObject){\n",
    "    console.log(propiedad);\n",
    "}\n",
    "\n",
    "//Para recuperar todas las propieades SIMBOLO de un objeto\n",
    "var mySimbols = Object.getOwnPropertySymbols(miObject);\n",
    "console.log(mySimbols);\n",
    "for(i in mySimbols){\n",
    "    console.log( mySimbols[i], Symbol.keyFor(mySimbols[i]))\n",
    "}\n",
    "\n",
    "\n",
    "\n"
   ]
  },
  {
   "cell_type": "code",
   "execution_count": null,
   "id": "42c33d09",
   "metadata": {},
   "outputs": [],
   "source": []
  }
 ],
 "metadata": {
  "kernelspec": {
   "display_name": "Javascript (Node.js)",
   "language": "javascript",
   "name": "javascript"
  },
  "language_info": {
   "file_extension": ".js",
   "mimetype": "application/javascript",
   "name": "javascript",
   "version": "14.17.1"
  }
 },
 "nbformat": 4,
 "nbformat_minor": 5
}
