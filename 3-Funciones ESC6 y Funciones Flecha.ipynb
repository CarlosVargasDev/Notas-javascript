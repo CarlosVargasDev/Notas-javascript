{
 "cells": [
  {
   "cell_type": "markdown",
   "id": "a83cf773",
   "metadata": {},
   "source": [
    "# Funciones ESC6"
   ]
  },
  {
   "cell_type": "markdown",
   "id": "5299880d",
   "metadata": {},
   "source": [
    "## Parametros por defecto\n",
    "\n",
    "* Primero deben ir los parametros opcionales, \n",
    "* Los parametros opcionales pueden ser objetos, booleados, funciones, etc."
   ]
  },
  {
   "cell_type": "code",
   "execution_count": 1,
   "id": "bc5e1bc3",
   "metadata": {},
   "outputs": [
    {
     "name": "stdout",
     "output_type": "stream",
     "text": [
      "undefined\n"
     ]
    }
   ],
   "source": [
    "//////////////// Sin definir los parametros opcionales ////////////////\n",
    "var saludo = (mensaje,tiempo)=>{\n",
    "    setTimeout(()=>{console.log(mensaje)}, tiempo)\n",
    "}\n",
    "saludo(); //Devuelve undefined, debido al momento de imprimir  el mensaje su valor por defecto es undfined"
   ]
  },
  {
   "cell_type": "code",
   "execution_count": 3,
   "id": "2c6b8b33",
   "metadata": {},
   "outputs": [
    {
     "name": "stdout",
     "output_type": "stream",
     "text": [
      "Hola Mundo\n"
     ]
    }
   ],
   "source": [
    "////////////////Forma de definir los parametros opcionales en  el ECS5 ////////////////\n",
    "var saludo = (mensaje,tiempo)=>{\n",
    "    //Forma 1\n",
    "    mensaje = mensaje || 'Hola Mundo'; //Forma de hacerlo en ECS5\n",
    "    //Forma 2\n",
    "    //mensaje = (typeof mensaje !== \"undefined\")? mensaje: \"Hola mundo2\";//Notacion ternaria del if\n",
    "    \n",
    "    setTimeout(()=>{console.log(mensaje)}, tiempo)\n",
    "}\n",
    "saludo();"
   ]
  },
  {
   "cell_type": "code",
   "execution_count": 17,
   "id": "9242e1fd",
   "metadata": {},
   "outputs": [
    {
     "name": "stdout",
     "output_type": "stream",
     "text": [
      "Saludos desde la funcion por defecto\n",
      "Hola mundo\n"
     ]
    }
   ],
   "source": [
    "//////////////// Parametros por defecto en ECS6///////////////\n",
    "//Ejemplo 1\n",
    "    var saludo = (mensaje=\"Hola mundo\", tiempo=2000)=>{ //El tiempo es en milisegundos\n",
    "        setTimeout(()=>{console.log(mensaje)}, tiempo)\n",
    "    }\n",
    "    saludo();\n",
    "\n",
    "//Ejemplo 2: Pasando una funcion\n",
    "    var miFuncion = (funcionInput = fnTemp)=>{        \n",
    "            if(typeof funcionInput!==\"function\"){\n",
    "                console.error(\"El argumento no es una funcion\")\n",
    "            }else{\n",
    "                funcionInput();\n",
    "            }\n",
    "    }\n",
    "\n",
    "    //Definimos el parametro por defecto, en este caso es una funcion, \n",
    "    //la funcion tambien puede ser definida dentro de los parentesis.\n",
    "    var fnTemp = ()=>{\n",
    "        console.log(\"Saludos desde la funcion por defecto\");\n",
    "    }\n",
    "    //miFuncion(\"A\");\n",
    "    miFuncion();"
   ]
  },
  {
   "cell_type": "markdown",
   "id": "16a01293",
   "metadata": {},
   "source": [
    "## El objeto arguments y los parametros por defecto\n",
    "* Arguments es un objeto de las funciones normales, que muestra todos los parámetros enviados a la función aunque no estén definidos explícitamente.\n",
    "\n",
    "//Aqui parece que ya no aplica lo explicado en la clase del video, con o sin argumentos opcionales la funcion hace lo mismo."
   ]
  },
  {
   "cell_type": "code",
   "execution_count": 2,
   "id": "e91786db-af97-4521-8253-d22bbcc198e4",
   "metadata": {},
   "outputs": [
    {
     "name": "stdout",
     "output_type": "stream",
     "text": [
      "[Arguments] { '0': 'a', '1': 'b', '2': 'c', '3': 'd' }\n",
      "[Arguments] {}\n"
     ]
    }
   ],
   "source": [
    "//////////////// Sin Parametros opcionales ///////////////\n",
    "function sumar1(a,b){\n",
    "    console.log(arguments);\n",
    "}\n",
    "sumar1('a','b','c','d'); //Cuando envio parametros\n",
    "sumar1();//Cuando no le envio nada, no recivo nada"
   ]
  },
  {
   "cell_type": "code",
   "execution_count": 3,
   "id": "53df2cbf",
   "metadata": {},
   "outputs": [
    {
     "name": "stdout",
     "output_type": "stream",
     "text": [
      "[Arguments] { '0': 'x', '1': 'y' }\n",
      "[Arguments] {}\n"
     ]
    }
   ],
   "source": [
    "//////////////// Con Parametros opcionales ///////////////\n",
    "function sumar2(a='a',b='b'){\n",
    "    console.log(arguments);\n",
    "}\n",
    "\n",
    "sumar2('x','y'); //Cuando  le envio parametros\n",
    "sumar2(); //Cuando no le envio nada, recive nada\n"
   ]
  },
  {
   "cell_type": "markdown",
   "id": "14160cac",
   "metadata": {},
   "source": [
    "## Parametros REST\n",
    "* Ese **parametro se convierte en un arrelo que contiene el \"resto\" de los parametros pasados** a la funcion.\n",
    "\n",
    "#### Restricciones \n",
    "* El parametros \"rest\", es indicado con tres puntos (...),seguido del nombre que le asignaremos a dicho parametros.\n",
    "* Solo puede existir un parametro rest en la funcion.\n",
    "* El parametro rest debe ir siempre como el ultimo parametro.\n",
    "* En el ECMAScript 5, no existía los parámetros rest, se puede tener la funcionalidad utilizando arguments, pero no es lo mismo\n",
    "\n"
   ]
  },
  {
   "cell_type": "code",
   "execution_count": 43,
   "id": "8e144e4c",
   "metadata": {},
   "outputs": [
    {
     "name": "stdout",
     "output_type": "stream",
     "text": [
      "[ 'Carlos', 'Juan', 'Checo', 'Jessica', 'Mari' ]\n"
     ]
    }
   ],
   "source": [
    "//////////////// ES6 ///////////////\n",
    "var agregar_alumnos = (array_alumnos, ...alumnosNuevos)=>{\n",
    "    for(let i =0; i< alumnosNuevos.length; i++){\n",
    "        array_alumnos.push(alumnosNuevos[i]);\n",
    "    }\n",
    "    return array_alumnos\n",
    "}\n",
    "\n",
    "var alumnos = ['Carlos'];\n",
    "var nuevaLista = agregar_alumnos(alumnos, \"Juan\",\"Checo\",\"Jessica\",\"Mari\");\n",
    "console.log(nuevaLista);\n"
   ]
  },
  {
   "cell_type": "markdown",
   "id": "42360a46",
   "metadata": {},
   "source": [
    "## Operador Spread\n",
    "El operador \"spread\", permite especificar un arreglo que sera separado y cada item enviado sera un argumento independiente a la funcion.\n"
   ]
  },
  {
   "cell_type": "code",
   "execution_count": 48,
   "id": "4de2618c",
   "metadata": {},
   "outputs": [
    {
     "name": "stdout",
     "output_type": "stream",
     "text": [
      "21\n",
      "647\n"
     ]
    }
   ],
   "source": [
    "//////////////// ES6 ///////////////\n",
    "//Ejemplo1\n",
    "    var num1 = 10;\n",
    "    var num2 = 20;\n",
    "    var num3 = 21;\n",
    "    var max = Math.max(num1,num2,num3) //La funcion max recibe \"n\" argumentos\n",
    "    console.log(max);\n",
    "\n",
    "//Operador SPREAD\n",
    "    var numeros = [2,4,6,12,647,22];\n",
    "    var max = Math.max(...numeros); //Con el operador spread, separamos cada item \n",
    "                                    //y se los enviamos a la funcion.\n",
    "\n",
    "    console.log(max);"
   ]
  },
  {
   "cell_type": "markdown",
   "id": "740bde86",
   "metadata": {},
   "source": [
    "## Romper la relacion de referencia de los objetos\n",
    "En js, todos los objetos son pasados por referencia.  \n",
    "\n",
    "//Importante, solo lo objetos, pero no las variables de tipo numerica ni las funciones(almenos las funciones flecha)."
   ]
  },
  {
   "cell_type": "code",
   "execution_count": 56,
   "id": "81a229fd",
   "metadata": {},
   "outputs": [
    {
     "name": "stdout",
     "output_type": "stream",
     "text": [
      "{ nombre: 'Pedro', edad: 23 }\n",
      "{ nombre: 'Pedro', edad: 23 }\n"
     ]
    }
   ],
   "source": [
    "//////////////// ADVERTENCIA: TODOS LOS OBJETOS SON PASADOS POR REFERENCIA ///////////////\n",
    "//ERROR COMUN\n",
    "var persona1 = {\n",
    "    nombre: \"Juan\",\n",
    "    edad: 23\n",
    "};\n",
    "var persona2 = persona1; \n",
    "persona2.nombre=\"Pedro\";\n",
    "console.log(persona1);\n",
    "console.log(persona2);\n",
    "\n",
    "\n"
   ]
  },
  {
   "cell_type": "code",
   "execution_count": 57,
   "id": "5bf64fa6",
   "metadata": {},
   "outputs": [
    {
     "name": "stdout",
     "output_type": "stream",
     "text": [
      "{ nombre: 'Juan', edad: 23 }\n",
      "{ nombre: 'Pedro', edad: 23 }\n"
     ]
    }
   ],
   "source": [
    "//Ejemplo util para copiar un objeto rompiendo la relacion.\n",
    "var personaA =  {\n",
    "    nombre: \"Juan\",\n",
    "    edad: 23\n",
    "};\n",
    "var personaB = { ...personaA }; //SE hace uso del operador \"SPREAD\" \n",
    "personaB.nombre=\"Pedro\";\n",
    "console.log(personaA);\n",
    "console.log(personaB);\n"
   ]
  },
  {
   "cell_type": "markdown",
   "id": "fb5f78c8",
   "metadata": {},
   "source": [
    "## Añadir propiedades a objetos a partir de otros objetos, util para el patron redux\n"
   ]
  },
  {
   "cell_type": "code",
   "execution_count": 62,
   "id": "7426cfc2",
   "metadata": {},
   "outputs": [
    {
     "name": "stdout",
     "output_type": "stream",
     "text": [
      "{ nombre: 'Juan', edad: 23, apellido: 'Vargas' }\n",
      "{\n",
      "  nombre: 'Carlos',\n",
      "  edad: 22,\n",
      "  fecha: '2021/04/10',\n",
      "  direccion: 'Mi direccion'\n",
      "}\n",
      "-----------------------------\n",
      "{\n",
      "  nombre: 'Juan',\n",
      "  edad: 23,\n",
      "  fecha: '2021/04/10',\n",
      "  direccion: 'Mi direccion',\n",
      "  apellido: 'Vargas'\n",
      "}\n",
      "{\n",
      "  nombre: 'Carlos',\n",
      "  edad: 22,\n",
      "  fecha: '2021/04/10',\n",
      "  direccion: 'Mi direccion'\n",
      "}\n"
     ]
    }
   ],
   "source": [
    "var objetoX =  {\n",
    "    nombre: \"Juan\",\n",
    "    edad: 23,\n",
    "    apellido:'Vargas'\n",
    "};\n",
    "\n",
    "var objetoY =  {\n",
    "    nombre: \"Carlos\",\n",
    "    edad: 22,\n",
    "    fecha: '2021/04/10',\n",
    "    direccion: 'Mi direccion'\n",
    "};\n",
    "\n",
    "//Ambos objetos tienen propiedades diferentes y algunas son iguales.\n",
    "console.log(objetoX);\n",
    "console.log(objetoY);\n",
    "\n",
    "//PAra añadir las propiedades(y añadir sus valores) a un objeto a partir de otro\n",
    "objetoX = {\n",
    "    ...objetoY,\n",
    "    ...objetoX //Le agregamos esta linea para que conserve sus propiedades y no se pierdan\n",
    "}\n",
    "console.log('-----------------------------');\n",
    "console.log(objetoX);\n",
    "console.log(objetoY);\n"
   ]
  },
  {
   "cell_type": "markdown",
   "id": "1677632b",
   "metadata": {},
   "source": [
    "## Spread vs Rest\n",
    "Spread separa elementos mientras que rest los junta\n",
    "* spread: Esparce los elementos como si fueran enviados de forma separada\n",
    "* rest: Junta los elementos en un arreglo"
   ]
  },
  {
   "cell_type": "code",
   "execution_count": 71,
   "id": "65bbaff2",
   "metadata": {},
   "outputs": [
    {
     "name": "stdout",
     "output_type": "stream",
     "text": [
      "...................\n",
      "Operador REST\n",
      "...................\n",
      "Hola Carlos,\n",
      "Hola Mari,\n",
      "Hola Susana,\n",
      "...................\n",
      "Operador SPREAD\n",
      "...................\n",
      "Que tal melissa,Tagh,Jonh,\n"
     ]
    }
   ],
   "source": [
    "saludarRest = (saludo, ...nombres)=>{\n",
    "    console.log('...................');\n",
    "    console.log(\"Operador REST\");\n",
    "    console.log('...................');\n",
    "    for(i in nombres){\n",
    "        \n",
    "        console.log(`${saludo} ${nombres[i]},`);\n",
    "        \n",
    "    }\n",
    "};\n",
    "\n",
    "saludarRest(\"Hola\",\"Carlos\", \"Mari\", \"Susana\");\n",
    "\n",
    "\n",
    "saludarSpread = (saludo, ...nombres)=>{\n",
    "    console.log('...................');\n",
    "    console.log(\"Operador SPREAD\");\n",
    "    console.log('...................');\n",
    "    console.log(`${saludo} ${nombres},`);\n",
    "    \n",
    "};\n",
    "nombres = [\"melissa\", \"Tagh\", \"Jonh\"];\n",
    "saludarSpread(\"Que tal\", nombres);\n",
    "\n",
    "\n",
    "\n"
   ]
  },
  {
   "cell_type": "code",
   "execution_count": null,
   "id": "9e04147a",
   "metadata": {},
   "outputs": [],
   "source": []
  },
  {
   "cell_type": "markdown",
   "id": "400842ab",
   "metadata": {},
   "source": [
    "## Doble comportamiento de las funciones\n",
    "En ES5, las funciones sirven con un doble proposito, de ser llamadas con o sin la palabra reservada new:\n",
    "\n",
    "*Con NEW: El valor \"this\" dentro de la funcion es un nuevo objeto y ese nuevo objeto es retornado\n",
    "\n",
    "*Sin NEW: Simplemente hacemos el llamado de la funcion y esperamos el retorno de algun valor procesado que puede ser un objeto, undefined, null.\n",
    "\n",
    "*Se puede usar new.target para asegurarse que la funcion fue creada utilizando el operador new."
   ]
  },
  {
   "cell_type": "code",
   "execution_count": 72,
   "id": "46871d35",
   "metadata": {},
   "outputs": [
    {
     "name": "stdout",
     "output_type": "stream",
     "text": [
      "Persona { nombre: 'Fernado' }\n",
      "undefined\n"
     ]
    }
   ],
   "source": [
    "function Persona(nombre){\n",
    "    this.nombre = nombre;\n",
    "}\n",
    "\n",
    "var persona = new Persona(\"Fernado\"); //Es como si devolvieramos un objeto\n",
    "var noEsPersona = Persona(\"Fernando\");//Es como llamar a una funcion normal, y el this apunta al objeto global window\n",
    "console.log(persona); //Devuelve un objeto, de tipo Persona\n",
    "console.log(noEsPersona); //Devuelve un undefined, porque el valor por defecto de una variable es undefined\n"
   ]
  },
  {
   "cell_type": "code",
   "execution_count": 4,
   "id": "e32e2e97",
   "metadata": {},
   "outputs": [],
   "source": [
    "//Como manejar un posible error potencial\n",
    "function MiPersona(nombre){\n",
    "    \n",
    "    //Bloque de codigo util, para no apuntar al objeto global, cuando usamos el this\n",
    "    if(this instanceof MiPersona ){\n",
    "        this.nombre = nombre;\n",
    "    }else{\n",
    "        throw new Error(\"Esta funcion debe ser utilizada con el operador new\");\n",
    "    } \n",
    "}\n",
    "\n",
    "//Como manejar un posible error potencial, VERCION MEJORADA\n",
    "function MiPersona(nombre){\n",
    "    \n",
    "    //Bloque de codigo util, para no apuntar al objeto global, cuando usamos el this\n",
    "    if(typeof new.target !== \"undefined\"){\n",
    "        this.nombre = nombre;\n",
    "    }else{\n",
    "        throw new Error(\"Esta funcion debe ser utilizada con el operador new\");\n",
    "    } \n",
    "}"
   ]
  },
  {
   "cell_type": "code",
   "execution_count": null,
   "id": "dba00f11",
   "metadata": {},
   "outputs": [],
   "source": []
  },
  {
   "cell_type": "markdown",
   "id": "524ab455",
   "metadata": {},
   "source": [
    "\n",
    "## Funciones de flecha\n",
    "\n",
    "Las funciones tradicionales no sólo trabajan como funciones, sino que permiten la creación de objetos y otros mecanismos totalmente útiles hoy en día. Las funciones de Flecha expanden el JavaScript y nos dan utilidades nuevas, pero no reemplazan a las funciones tradicionales.\n",
    "\n",
    "**Carcarteristicas de las funciones flecha**\n",
    "* El \"this\" apunta al objeto padre.\n",
    "* No hay constructores new.\n",
    "* No hay creacion de this,super, arguments y new.target porque apuntan al padre que no sea de tipo funcion de flecha.\n",
    "* No hay prototipo.\n",
    "* No puden cambiar el valor de \"this\".\n",
    "* No hay objeto arguments, se debe usar REST para manjar los demas parametros. Cuando se trata de utilizar arguments dentro de una funcion flecha, se hace referencia a la funcion padre. \n",
    "\n",
    "// Agreagar la sintaxis de la funcion flecha despues\n",
    "\n"
   ]
  },
  {
   "cell_type": "markdown",
   "id": "6366473b",
   "metadata": {},
   "source": [
    "## Funciones anonimas\n",
    "* Las funciones anonomas son funciones que no tienen un nombre y son ejecutadas al momento de su creacion. Para ser ejecutadas se encierran en parentesis, tambien se le pueden pasar argumentos enseguida de su definicions(poniendolos en parentesis tambien).\n"
   ]
  },
  {
   "cell_type": "code",
   "execution_count": 6,
   "id": "b5b340d1",
   "metadata": {},
   "outputs": [
    {
     "name": "stdout",
     "output_type": "stream",
     "text": [
      "Hola Carlos\n"
     ]
    }
   ],
   "source": [
    "//////////////// ES5 ///////////////\n",
    "var saludo1 = ( function(nombre){\n",
    "    return \"Hola \" + nombre;\n",
    "})(\"Carlos\"); //Aqui le paso el argumento\n",
    "\n",
    "console.log(saludo1);"
   ]
  },
  {
   "cell_type": "code",
   "execution_count": 10,
   "id": "e76d7e3a",
   "metadata": {},
   "outputs": [
    {
     "name": "stdout",
     "output_type": "stream",
     "text": [
      "Hola Carlos\n"
     ]
    }
   ],
   "source": [
    "//////////////// ES6 ///////////////\n",
    "var saludo2 = (nombre => `Hola ${ nombre}`)(\"Carlos\"); //LA funcion anomia va entre parentesis, \n",
    "                                                       //y sus argumentos van en el siguiente parentesis\n",
    "\n",
    "console.log(saludo2);"
   ]
  },
  {
   "cell_type": "markdown",
   "id": "babb33bd",
   "metadata": {},
   "source": [
    "## El objeto this en una funcion flecha y una funcion normal\n",
    "*Hay que recordar que en una funcion flecha el objeto this apunta al objeto padre, sin embargo en una funcion normal, si dicha funcion no es creada con el operador \"new\", el this apunta al objeto global."
   ]
  },
  {
   "cell_type": "code",
   "execution_count": null,
   "id": "69248543",
   "metadata": {},
   "outputs": [],
   "source": [
    "//////////////// PROBLEMATICA ///////////////\n",
    "// Quiero llamar a un \"metodo\", dentro de un objeto en js,\n",
    "\n",
    "var miObjeto = {\n",
    "    id='123',\n",
    "    init: function(){\n",
    "        document.addEventListener(\"click\", function(event){\n",
    "                this.miMetodoObjeto(event.type);\n",
    "            }, false)\n",
    "        },\n",
    "    miMetodoObjeto: function(type){\n",
    "            console.log(\"Manejando \" + type + \"para el id: \" this.id);\n",
    "        }\n",
    "}\n",
    "\n",
    "//Me sale un error, el cual dice que no hay una funcion llamada  \"miMetodoObjeto\" y eso es porque el\n",
    "//this apunta al objeto global"
   ]
  },
  {
   "cell_type": "code",
   "execution_count": 11,
   "id": "32eecc0f",
   "metadata": {},
   "outputs": [],
   "source": [
    "//////////////// Solucion ES5 ///////////////\n",
    "//La solucion se basa en poner en parentesis la definicion de la funcion, \n",
    "//y ponerle un \".bind(this)\"\n",
    "var miObjeto = {\n",
    "    id='123',\n",
    "    init: function(){\n",
    "        document.addEventListener(\"click\",(function(event){\n",
    "                this.miMetodoObjeto(event.type);\n",
    "            }).bind(this), false)\n",
    "        },\n",
    "    miMetodoObjeto: function(type){\n",
    "            console.log(\"Manejando \" + type + \"para el id: \" this.id);\n",
    "        }\n",
    "}\n"
   ]
  },
  {
   "cell_type": "code",
   "execution_count": null,
   "id": "c7a118de",
   "metadata": {},
   "outputs": [],
   "source": [
    "//////////////// Solucion ES6 ///////////////\n",
    "//La solucion se basa en poner una funcion flecha\n",
    "var miObjeto = {\n",
    "    id='123',\n",
    "    init: function(){\n",
    "        document.addEventListener(\"click\",) event=>{\n",
    "             this.miMetodoObjeto(event.type);   \n",
    "            }, false)\n",
    "        },\n",
    "    miMetodoObjeto: function(type){\n",
    "            console.log(\"Manejando \" + type + \"para el id: \" this.id);\n",
    "        }\n",
    "}\n"
   ]
  }
 ],
 "metadata": {
  "kernelspec": {
   "display_name": "Javascript (Node.js)",
   "language": "javascript",
   "name": "javascript"
  },
  "language_info": {
   "file_extension": ".js",
   "mimetype": "application/javascript",
   "name": "javascript",
   "version": "14.17.1"
  }
 },
 "nbformat": 4,
 "nbformat_minor": 5
}
