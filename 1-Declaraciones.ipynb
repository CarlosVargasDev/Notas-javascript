{
 "cells": [
  {
   "cell_type": "markdown",
   "id": "9aff4ac2",
   "metadata": {},
   "source": [
    "# Declaraciones y uniones(Binding)\n",
    "\n",
    "\n",
    "**//En general el codigo de es5 funciona en el es6**"
   ]
  },
  {
   "cell_type": "markdown",
   "id": "826d15cb",
   "metadata": {},
   "source": [
    "## Let vs var\n",
    "\n",
    "#### Scope\n",
    "El ambito de una variabe(scope), es la zona del programa en la que se define la variable. En js tenemos dos ambitos, el global y el local.\n",
    "\n",
    "* //\"Window\" es el objeto global cuano trabajamos en un navegador. \n",
    "\n",
    "* //El valor por defecto de una variable es el undefined\n",
    "\n",
    "* //Lo primero que hace js, es barrer el documento js, por lo que si primero imprimes una variable  y despues declaras la variable con var, te sale un valor por defecto undefined\n",
    "\n",
    "##### Let \n",
    "\n",
    "* Let es un inicialidor de variable, y obliga a js a que antes de ser usada una variable, debe de existir previamente(debe de estar declarada), de lo contrario manda un error. \n",
    "\n",
    "* Let tambien permite crear variables en un ambito local\n",
    "\n",
    "##### var\n",
    "* Si se crea la variable con var, esta puede usarse en cualquier momento(el valor por defecto de una variable es undefined), incluso antes de inicializarse.\n",
    "\n",
    "\n"
   ]
  },
  {
   "cell_type": "code",
   "execution_count": null,
   "id": "10a117b5",
   "metadata": {},
   "outputs": [],
   "source": [
    "\n",
    "console.log(mensajeVar1) //la salida por consola es undefined\n",
    "var mensajeVar1 = \"algo\""
   ]
  },
  {
   "cell_type": "code",
   "execution_count": null,
   "id": "2d547356",
   "metadata": {},
   "outputs": [],
   "source": [
    "console.log(mensajeLet1) //A qui nos tiraria un error\n",
    "let mensajeLet1 = \"Hola mundo\""
   ]
  },
  {
   "cell_type": "code",
   "execution_count": null,
   "id": "cb171001",
   "metadata": {},
   "outputs": [],
   "source": [
    "// USO DE VAR\n",
    "if(1 == 3){\n",
    "    var mensajeVar2 = \"algo\"\n",
    "}\n",
    "console.log(mensajeVar2) //la salida por consola es undefined"
   ]
  },
  {
   "cell_type": "code",
   "execution_count": null,
   "id": "e7222b3b",
   "metadata": {},
   "outputs": [],
   "source": [
    "// USO DE LET\n",
    "if(3==3){\n",
    "    let mesajeLet2 = \"algo\" //la variable es creada, pero solo en este ambito(scope) dentro delif\n",
    "}\n",
    "console.log(mensajeLet2) //Manta un error, porque la variable no existe"
   ]
  },
  {
   "cell_type": "markdown",
   "id": "cb428352",
   "metadata": {},
   "source": [
    "## No hay redeclaraciones con let\n",
    "\n",
    "Es decir no puedes volver a declarar una variable si ya ha sido declarada, excepto si declaras la variable en otro ambito(scope)"
   ]
  },
  {
   "cell_type": "code",
   "execution_count": null,
   "id": "3eace1a9",
   "metadata": {},
   "outputs": [],
   "source": [
    "var algo = 2\n",
    "var algo = 3\n",
    "var algo = 4\n",
    "var algo = 5\n",
    "console.log(algo) // Tiraria un error"
   ]
  },
  {
   "cell_type": "markdown",
   "id": "5e03124e",
   "metadata": {},
   "source": [
    "## Constantes\n",
    "Las constantes no pueden mutar, es decir no se pueden volver a reasignar, Sin embargo si se esta en otro scope, se puede redefinir la variable, esto es porque la direccion de memoria es diferente dentro de otro bloque de codigo(dentro de otro scope/ambito)"
   ]
  },
  {
   "cell_type": "code",
   "execution_count": null,
   "id": "5e5fad3c",
   "metadata": {},
   "outputs": [],
   "source": [
    "//Variables\n",
    "const IMPUESTO_SV = 19.25;\n",
    "\n",
    "\n",
    "if(true){//Advertencia: Se puede redifinir una nueva variable en otro scope\n",
    "    const IMPUESTO_SV = 22.22; //Esto solo se actualizaria dentro de este ambito\n",
    "}\n",
    "\n",
    "//Objetos\n",
    "const PERSONA = {\n",
    "    nombre:'Juan'\n",
    "    apellido: 'Vargas'\n",
    "}\n",
    "PERSONA.edad = 23 //Esto es valido dentro del ES6\n",
    "\n",
    "//No se puede redeclarar un objeto completo, mandaria un error\n",
    "PERSONA = {\n",
    "    nombre:'Carlos'\n",
    "    apellido: 'Vargas'\n",
    "    edad: 23\n",
    "}"
   ]
  },
  {
   "cell_type": "markdown",
   "id": "61be5c58",
   "metadata": {},
   "source": [
    "## Variables en ciclos"
   ]
  },
  {
   "cell_type": "code",
   "execution_count": null,
   "id": "f98b6518",
   "metadata": {},
   "outputs": [],
   "source": [
    "for(var i = 0; i<=10; i++){\n",
    "    ///\n",
    "}\n",
    "console.log(i) //imprimer la i, porque es declarada con var, por lo que es global"
   ]
  },
  {
   "cell_type": "code",
   "execution_count": null,
   "id": "147d4fa3",
   "metadata": {},
   "outputs": [],
   "source": [
    "for(let j = 0; j<=10; j++){\n",
    "    ///\n",
    "}\n",
    "console.log(j) //Lanza un error porque la variable no existe"
   ]
  },
  {
   "cell_type": "code",
   "execution_count": null,
   "id": "dff2bdd2",
   "metadata": {},
   "outputs": [],
   "source": []
  }
 ],
 "metadata": {
  "kernelspec": {
   "display_name": "Javascript (Node.js)",
   "language": "javascript",
   "name": "javascript"
  },
  "language_info": {
   "file_extension": ".js",
   "mimetype": "application/javascript",
   "name": "javascript",
   "version": "14.17.1"
  }
 },
 "nbformat": 4,
 "nbformat_minor": 5
}
