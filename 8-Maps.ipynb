{
 "cells": [
  {
   "cell_type": "markdown",
   "id": "0220cbaa",
   "metadata": {},
   "source": [
    "# MAPS\n",
    "Es un nuevo tipo de coleccion de datos. Es una coleccion de datos que tiene una llave y un varlo(Key-Value-Per).  Los mapas no pueden tener llaves repetidas, se hace se sobreescribe el valor de la llave. \n",
    "\n",
    "//Se puede meter lo que sea en un mapa(primitivos, objetos, null, undefined, nada). \n",
    "\n",
    "Los mapas(al igual que los strong sets) tienen:\n",
    "* Has()\n",
    "* delete()\n",
    "* clear()\n",
    "* size()\n",
    "* iteraciones"
   ]
  },
  {
   "cell_type": "markdown",
   "id": "dcd93a09",
   "metadata": {},
   "source": [
    "## Mapas y sus metodos"
   ]
  },
  {
   "cell_type": "code",
   "execution_count": 4,
   "id": "2e1f4a96",
   "metadata": {},
   "outputs": [
    {
     "name": "stdout",
     "output_type": "stream",
     "text": [
      "Map(3) {\n",
      "  'nombre' => 'Fernando',\n",
      "  'edad' => 31,\n",
      "  'direccion' => undefined\n",
      "}\n",
      "3\n"
     ]
    }
   ],
   "source": [
    "var mapa = new Map();\n",
    "mapa.set(\"nombre\", \"Fernando\");\n",
    "mapa.set(\"edad\",31);\n",
    "mapa.set(\"direccion\");\n",
    "//Tambien permite agregar objetos como llave  y como valor.\n",
    "\n",
    "\n",
    "console.log(mapa);\n",
    "console.log(mapa.size)"
   ]
  },
  {
   "cell_type": "code",
   "execution_count": 5,
   "id": "0b6a4b72",
   "metadata": {},
   "outputs": [
    {
     "name": "stdout",
     "output_type": "stream",
     "text": [
      "Fernando\n",
      "true\n",
      "false\n",
      "true\n"
     ]
    }
   ],
   "source": [
    "console.log(mapa.get(\"nombre\")); //Obtiene el valor de la llave \"nombre\"\n",
    "console.log(mapa.has(\"edad\")); //True\n",
    "console.log(mapa.has(\"apellido\")); //False\n",
    "console.log(mapa.has(\"direccion\")); //True"
   ]
  },
  {
   "cell_type": "code",
   "execution_count": 9,
   "id": "bff9425b",
   "metadata": {},
   "outputs": [
    {
     "data": {
      "text/plain": [
       "Map(4) {\n",
       "  'nombre' => 'Fernando',\n",
       "  'edad' => 31,\n",
       "  'direccion' => undefined,\n",
       "  undefined => undefined\n",
       "}"
      ]
     },
     "execution_count": 9,
     "metadata": {},
     "output_type": "execute_result"
    }
   ],
   "source": [
    "mapa.set( ) //Aqui se agrega una llave-valor igual a \"undefined => undefined\""
   ]
  },
  {
   "cell_type": "code",
   "execution_count": 14,
   "id": "19bfd143",
   "metadata": {},
   "outputs": [
    {
     "name": "stdout",
     "output_type": "stream",
     "text": [
      "false\n",
      "undefined\n",
      "Map(0) {}\n"
     ]
    }
   ],
   "source": [
    "//Para eliminar una llave\n",
    "mapa.delete(\"nombre\");\n",
    "console.log(mapa.has(\"nombre\"));\n",
    "\n",
    "//Para eliminar un valor de una llave\n",
    "mapa.set(\"edad\");\n",
    "console.log(mapa.get(\"edad\"));\n",
    "\n",
    "//Eliminar todo\n",
    "mapa.clear();\n",
    "console.log(mapa);"
   ]
  },
  {
   "cell_type": "markdown",
   "id": "f4008a48",
   "metadata": {},
   "source": [
    "## Inicializacion de los mapas\n",
    "Se agrega un arreglo, y dentro de ese arreglo se agregan mas arreglos que contienen la estructura llave-valor"
   ]
  },
  {
   "cell_type": "code",
   "execution_count": 15,
   "id": "eaf7cd78",
   "metadata": {},
   "outputs": [
    {
     "name": "stdout",
     "output_type": "stream",
     "text": [
      "Map(3) { 'nombre' => 'Carlos', 'edad' => '23', null => undefined }\n"
     ]
    }
   ],
   "source": [
    "var mapa = new Map([   \n",
    "    [\"nombre\",\"Carlos\"],\n",
    "    [\"edad\",\"23\"],\n",
    "    [null, undefined]\n",
    "]);\n",
    "console.log(mapa);"
   ]
  },
  {
   "cell_type": "markdown",
   "id": "740a1277",
   "metadata": {},
   "source": [
    "## ForEach() de los mapas"
   ]
  },
  {
   "cell_type": "code",
   "execution_count": 19,
   "id": "257ca7f2",
   "metadata": {},
   "outputs": [
    {
     "name": "stdout",
     "output_type": "stream",
     "text": [
      "Llave: nombre, valor: Carlos\n",
      "Map(3) {\n",
      "  'nombre' => 'Carlos',\n",
      "  'edad' => '23',\n",
      "  'direccion' => 'Reyes Acozac'\n",
      "}\n",
      "Llave: edad, valor: 23\n",
      "Map(3) {\n",
      "  'nombre' => 'Carlos',\n",
      "  'edad' => '23',\n",
      "  'direccion' => 'Reyes Acozac'\n",
      "}\n",
      "Llave: direccion, valor: Reyes Acozac\n",
      "Map(3) {\n",
      "  'nombre' => 'Carlos',\n",
      "  'edad' => '23',\n",
      "  'direccion' => 'Reyes Acozac'\n",
      "}\n"
     ]
    }
   ],
   "source": [
    "var mapa = new Map([   \n",
    "    [\"nombre\",\"Carlos\"],\n",
    "    [\"edad\",\"23\"],\n",
    "    [\"direccion\",\"Reyes Acozac\"]\n",
    "]);\n",
    "\n",
    "mapa.forEach( (valor, llave, mapaOrigen)=>{\n",
    "    console.log(`Llave: ${llave}, valor: ${valor}`);\n",
    "    console.log(mapaOrigen);\n",
    "})"
   ]
  },
  {
   "cell_type": "markdown",
   "id": "c2a6905c",
   "metadata": {},
   "source": [
    "## Nuero ciclo For-OF\n",
    "Este ciclo es especializado para las colecciones"
   ]
  },
  {
   "cell_type": "code",
   "execution_count": 22,
   "id": "4bdafebc",
   "metadata": {},
   "outputs": [
    {
     "name": "stdout",
     "output_type": "stream",
     "text": [
      "100\n",
      "200\n",
      "300\n",
      "400\n"
     ]
    }
   ],
   "source": [
    "var numeros = [100,200,300,400];\n",
    "//Recoriendo elementos de un arreglo\n",
    "\n",
    "//Forma 1\n",
    "for(let i in numeros){\n",
    "    console.log( numeros[i]);\n",
    "}"
   ]
  },
  {
   "cell_type": "code",
   "execution_count": 23,
   "id": "2d198d16",
   "metadata": {},
   "outputs": [
    {
     "name": "stdout",
     "output_type": "stream",
     "text": [
      "100\n",
      "200\n",
      "300\n",
      "400\n"
     ]
    }
   ],
   "source": [
    "//Forma 2: for of\n",
    "for(let numero of numeros){\n",
    "    console.log(numero);    \n",
    "}"
   ]
  },
  {
   "cell_type": "code",
   "execution_count": 25,
   "id": "fefaab0a",
   "metadata": {},
   "outputs": [
    {
     "name": "stdout",
     "output_type": "stream",
     "text": [
      "Carlos 21 Reyes\n",
      "Juan 11 Tecamac\n",
      "Pedro 31 Zumpango\n",
      "Cesar 41 CDMX\n"
     ]
    }
   ],
   "source": [
    "//EJEMPLO 2\n",
    "var personas = [\n",
    "    {nombre:\"Carlos\",edad :21, direccion:\"Reyes\" },\n",
    "    {nombre:\"Juan\",edad :11, direccion:\"Tecamac\" },\n",
    "    {nombre:\"Pedro\",edad :31, direccion:\"Zumpango\" },\n",
    "    {nombre:\"Cesar\",edad :41, direccion:\"CDMX\" }\n",
    "];\n",
    "\n",
    "for(persona of personas){\n",
    "    console.log(persona.nombre, persona.edad, persona.direccion);\n",
    "}"
   ]
  },
  {
   "cell_type": "code",
   "execution_count": 27,
   "id": "b66b4211",
   "metadata": {},
   "outputs": [
    {
     "name": "stdout",
     "output_type": "stream",
     "text": [
      "Carlos 21 Reyes\n",
      "Juan 11 Tecamac\n",
      "Pedro 31 Zumpango\n",
      "Cesar 41 CDMX\n"
     ]
    }
   ],
   "source": [
    "//Ejemplo 3: SETS con objetos\n",
    "var personas = new Set();\n",
    "personas.add({nombre:\"Carlos\",edad :21, direccion:\"Reyes\" });\n",
    "personas.add({nombre:\"Juan\",edad :11, direccion:\"Tecamac\" });\n",
    "personas.add({nombre:\"Pedro\",edad :31, direccion:\"Zumpango\" });\n",
    "personas.add({nombre:\"Cesar\",edad :41, direccion:\"CDMX\" });\n",
    "for(persona of personas){\n",
    "    console.log(persona.nombre, persona.edad, persona.direccion);\n",
    "}"
   ]
  },
  {
   "cell_type": "code",
   "execution_count": 34,
   "id": "d151c9ba",
   "metadata": {},
   "outputs": [
    {
     "name": "stdout",
     "output_type": "stream",
     "text": [
      "[ 'nombre', 'Carlos' ]\n",
      "[ 'edad', 23 ]\n"
     ]
    }
   ],
   "source": [
    "//Ejemplo 4: Con Mapas\n",
    "\n",
    "var personas = new Map();\n",
    "personas.set(\"nombre\",\"Carlos\");\n",
    "personas.set(\"edad\",23);\n",
    "\n",
    "//ES RECOMENDABLE USAR UN LET, para limitar el SCOPE de la variable \"persona\"\n",
    "for(let persona of personas){\n",
    "    console.log(persona);\n",
    "}"
   ]
  },
  {
   "cell_type": "code",
   "execution_count": null,
   "id": "9eea39e5",
   "metadata": {},
   "outputs": [],
   "source": []
  }
 ],
 "metadata": {
  "kernelspec": {
   "display_name": "Javascript (Node.js)",
   "language": "javascript",
   "name": "javascript"
  },
  "language_info": {
   "file_extension": ".js",
   "mimetype": "application/javascript",
   "name": "javascript",
   "version": "14.17.1"
  }
 },
 "nbformat": 4,
 "nbformat_minor": 5
}
