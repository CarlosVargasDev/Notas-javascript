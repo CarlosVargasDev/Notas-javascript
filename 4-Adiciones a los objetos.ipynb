{
 "cells": [
  {
   "cell_type": "markdown",
   "id": "dcb633f9",
   "metadata": {},
   "source": [
    "# Adiciones a los objetos"
   ]
  },
  {
   "cell_type": "markdown",
   "id": "8e8f7a92",
   "metadata": {},
   "source": [
    "## Extenciones de objetos literales\n",
    "Casi cualquier cosa en JS es algun tipo de objeto. "
   ]
  },
  {
   "cell_type": "code",
   "execution_count": 1,
   "id": "62276d94",
   "metadata": {},
   "outputs": [],
   "source": [
    "//Los Objetos literales son colecciones de pares: los objetos clasicos de js\n",
    "//Si las propiedades y los varlorestienen el mismo nombre, entonces se puede simplificar "
   ]
  },
  {
   "cell_type": "code",
   "execution_count": 3,
   "id": "c1d63646",
   "metadata": {},
   "outputs": [],
   "source": [
    "//No simplificado\n",
    "function miFunction(a,b,c){\n",
    "    return {\n",
    "        a:a,\n",
    "        b:b,\n",
    "        c:c\n",
    "    }\n",
    "}\n",
    "\n",
    "//Simplificado\n",
    "function miFunction2(a,b,c){\n",
    "    return {\n",
    "        a,\n",
    "        b,\n",
    "        c\n",
    "    }\n",
    "}"
   ]
  },
  {
   "cell_type": "markdown",
   "id": "3b4953d0",
   "metadata": {},
   "source": [
    "## Metodos consisos\n",
    "Funciones comunes en las que no declaramos con \"function\"."
   ]
  },
  {
   "cell_type": "code",
   "execution_count": 5,
   "id": "6e9216d5",
   "metadata": {},
   "outputs": [],
   "source": [
    "//No simplififcado\n",
    "var persona = {\n",
    "    nombre: \"Carlos\",\n",
    "    getNombre: function(){\n",
    "        console.log(this.nombre);\n",
    "    }\n",
    "    \n",
    "}"
   ]
  },
  {
   "cell_type": "code",
   "execution_count": 6,
   "id": "b99fbb37",
   "metadata": {},
   "outputs": [],
   "source": [
    "//Simplififcado\n",
    "var persona = {\n",
    "    nombre: \"Carlos\",\n",
    "    getNombre(){ //automaticamente entiende que es una funcion\n",
    "        console.log(this.nombre);\n",
    "    }\n",
    "}\n",
    "\n",
    "//Se pude cr"
   ]
  },
  {
   "cell_type": "code",
   "execution_count": 13,
   "id": "f3370773",
   "metadata": {},
   "outputs": [
    {
     "name": "stdout",
     "output_type": "stream",
     "text": [
      "{\n",
      "  propiedad: 'Esto es un ejemplo 0',\n",
      "  'propiedad 1': 'Esto es un ejemplo 1',\n",
      "  'propiedad 2': 'Esto es un ejemplo 2',\n",
      "  'propiedad 3': 'Hola mundo 3',\n",
      "  'Propiead con espacios': 'Hola mundo 4'\n",
      "}\n",
      "Esto es un ejemplo 0\n",
      "Esto es un ejemplo 1\n",
      "Esto es un ejemplo 2\n"
     ]
    }
   ],
   "source": [
    "//Formas de acceder a propiedades de los objetos\n",
    "var persona = {\n",
    "    \"propiedad\": \"Esto es un ejemplo 0\",\n",
    "    \"propiedad 1\": \"Esto es un ejemplo 1\",\n",
    "    \"propiedad 2\": \"Esto es un ejemplo 2\"\n",
    "}\n",
    "persona[\"propiedad 3\"] = \"Hola mundo 3\"\n",
    "persona[\"Propiead con espacios\"] = \"Hola mundo 4\"\n",
    "\n",
    "console.log(persona);\n",
    "console.log(persona.propiedad);\n",
    "console.log(persona[\"propiedad 1\"]);\n",
    "console.log(persona[\"propiedad 2\"]);\n",
    "\n",
    "\n"
   ]
  },
  {
   "cell_type": "markdown",
   "id": "3d5a0675",
   "metadata": {},
   "source": [
    "## Metodo \"Object.is()\"\n",
    "Comparaciones de dos objetos(==). \n",
    "\n",
    "Comparaciones para segurar que sean del tipo y mismo valor(===).\n",
    "\n",
    "En ocaciones ni el === es suficiente, como por ejemplo con el NaN. El \"Object.is()\" es util en esas ocaciones"
   ]
  },
  {
   "cell_type": "code",
   "execution_count": 14,
   "id": "836bd73b",
   "metadata": {},
   "outputs": [
    {
     "name": "stdout",
     "output_type": "stream",
     "text": [
      "true\n",
      "true\n",
      "false\n"
     ]
    }
   ],
   "source": [
    "//Matematicamente pueden ser igual, pero computacionalmente son diferentes.\n",
    "console.log(+0 ==  -0) //Da true\n",
    "console.log(+0 === -0) //Da true tambien\n",
    "console.log(Object.is(+0, -0)) //Aqui ya da false"
   ]
  },
  {
   "cell_type": "code",
   "execution_count": 16,
   "id": "a1c4f100",
   "metadata": {},
   "outputs": [
    {
     "name": "stdout",
     "output_type": "stream",
     "text": [
      "false\n",
      "false\n",
      "true\n"
     ]
    }
   ],
   "source": [
    "//Aqui se puede ver que hace una comparacion a nivel de objeto\n",
    "console.log(NaN == NaN); //Esto da false\n",
    "console.log(NaN === NaN); //Esto da false\n",
    "console.log(Object.is(NaN,NaN)) //Esto da true"
   ]
  },
  {
   "cell_type": "code",
   "execution_count": 17,
   "id": "74d14691",
   "metadata": {},
   "outputs": [
    {
     "name": "stdout",
     "output_type": "stream",
     "text": [
      "true\n",
      "true\n",
      "true\n",
      "false\n"
     ]
    }
   ],
   "source": [
    "console.log(5 == 5); //True\n",
    "console.log(5 == \"5\"); //True\n",
    "console.log(5 === 5); //True\n",
    "console.log(5 === \"5\"); //False"
   ]
  },
  {
   "cell_type": "code",
   "execution_count": 18,
   "id": "73a6cd42",
   "metadata": {},
   "outputs": [
    {
     "name": "stdout",
     "output_type": "stream",
     "text": [
      "true\n",
      "false\n"
     ]
    }
   ],
   "source": [
    "console.log(Object.is(5,5)); //True\n",
    "console.log(Object.is(5,\"5\")); //False"
   ]
  },
  {
   "cell_type": "markdown",
   "id": "22d6eca4",
   "metadata": {},
   "source": [
    "## Metodo \"Object.assign()\"\n",
    "\n",
    "Permiter tomar todas las propiedades de un objeto y hersedarselas a otro objeto sin necesidad de hacer herencia"
   ]
  },
  {
   "cell_type": "code",
   "execution_count": 28,
   "id": "289075c8",
   "metadata": {},
   "outputs": [
    {
     "name": "stdout",
     "output_type": "stream",
     "text": [
      "{ nombre: 'MiValor' }\n",
      "{ nombre: 'MiValor', miPropiedad: 'mi-archivo.js' }\n"
     ]
    }
   ],
   "source": [
    "//////////////////// ES5 /////////////////////\n",
    "function mezclar(objReceptor, objDonador){\n",
    "    Object.keys(objDonador).forEach(function(key){\n",
    "        objReceptor[key] = objDonador[key]; \n",
    "        //Se puede agregar una validacion, ya que si el objeto receptor \n",
    "        //ya tiene alguna propiedad del donador la sobreescribiria \n",
    "        //y eliminaria dicha informacion.        \n",
    "    });\n",
    "    return objReceptor\n",
    "}\n",
    "\n",
    "var objReceptor = {};\n",
    "var objDonador1 = {\n",
    "    nombre: \"MiValor\",\n",
    "}\n",
    "\n",
    "var objDonador2 = {\n",
    "    nombre: \"MiValor\",\n",
    "    get miPropiedad(){\n",
    "        return \"mi-archivo.js\"\n",
    "    }\n",
    "}\n",
    "\n",
    "console.log(mezclar(objReceptor, objDonador1)); //Aqui todo ocurre bien\n",
    "console.log(mezclar(objReceptor, objDonador2)); //Aqui no se pasa deficion de la funcion.\n",
    "                                //Solo se pasa el nombre de la funcion y lo que devuelve.\n",
    "                                //Esto solo pasas con el get\n"
   ]
  },
  {
   "cell_type": "code",
   "execution_count": 29,
   "id": "d6cba077",
   "metadata": {},
   "outputs": [
    {
     "name": "stdout",
     "output_type": "stream",
     "text": [
      "{ nombre: 'MiValor' }\n",
      "{ nombre: 'MiValor', miPropiedad: 'mi-archivo.js' }\n"
     ]
    }
   ],
   "source": [
    "//////////////////// ES6 /////////////////////\n",
    "\n",
    "var objReceptor = {};\n",
    "var objDonador1 = {\n",
    "    nombre: \"MiValor\",\n",
    "}\n",
    "var objDonador2 = {\n",
    "    nombre: \"MiValor\",\n",
    "    get miPropiedad(){\n",
    "        return \"mi-archivo.js\"\n",
    "    }\n",
    "}\n",
    "\n",
    "console.log(Object.assign(objReceptor, objDonador1)); //Aqui todo ocurre bien\n",
    "console.log(Object.assign(objReceptor, objDonador2)); //Aqui no se pasa deficion de la funcion.\n",
    "                                //Solo se pasa el nombre de la funcion y lo que devuelve,\n",
    "                                //Esto solo pasas con el get\n"
   ]
  },
  {
   "cell_type": "markdown",
   "id": "b5c60d11",
   "metadata": {},
   "source": [
    "## Orden de numeracion de las propiedades de los objetos\n",
    "* Todas las llaves van en orden ascendente.\n",
    "* Todas las llaves tipo string van ordenadas en la manera en que fueron agregadas al objeto.\n",
    "* Todos los simbolos en le orden que feron agregados al objeto.\n",
    "* Creo que los numeros van antes que las latras"
   ]
  },
  {
   "cell_type": "code",
   "execution_count": 33,
   "id": "12deab05",
   "metadata": {},
   "outputs": [
    {
     "name": "stdout",
     "output_type": "stream",
     "text": [
      "[\n",
      "  '0', '3', '15',\n",
      "  'c', 'x', 'r',\n",
      "  'b'\n",
      "]\n",
      "{\"0\":1,\"3\":1,\"15\":1,\"c\":1,\"x\":1,\"r\":1,\"b\":1}\n",
      "[\n",
      "  '0', '3', '15',\n",
      "  'c', 'x', 'r',\n",
      "  'b'\n",
      "]\n"
     ]
    }
   ],
   "source": [
    "var objeto={\n",
    "    c:1,\n",
    "    0:1,\n",
    "    x:1,\n",
    "    15:1,\n",
    "    r:1,\n",
    "    3:1,\n",
    "    b:1\n",
    "}\n",
    "console.log(Object.getOwnPropertyNames(objeto)); //Obtiene los nombres de las propiedades\n",
    "console.log(JSON.stringify(objeto)); //Convierte a JSON\n",
    "console.log(Object.keys(objeto)); //Obtiene los nombres de las propiedades"
   ]
  },
  {
   "cell_type": "code",
   "execution_count": null,
   "id": "bb90efea",
   "metadata": {},
   "outputs": [],
   "source": []
  }
 ],
 "metadata": {
  "kernelspec": {
   "display_name": "Javascript (Node.js)",
   "language": "javascript",
   "name": "javascript"
  },
  "language_info": {
   "file_extension": ".js",
   "mimetype": "application/javascript",
   "name": "javascript",
   "version": "14.17.1"
  }
 },
 "nbformat": 4,
 "nbformat_minor": 5
}
