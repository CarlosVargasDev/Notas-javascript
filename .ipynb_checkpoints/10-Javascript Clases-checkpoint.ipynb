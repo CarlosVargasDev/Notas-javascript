{
 "cells": [
  {
   "cell_type": "markdown",
   "id": "9a6367f1",
   "metadata": {},
   "source": [
    "## Javascrip Clases"
   ]
  },
  {
   "cell_type": "markdown",
   "id": "5ed46aa6",
   "metadata": {},
   "source": [
    "## Clases en el ES5"
   ]
  },
  {
   "cell_type": "code",
   "execution_count": 3,
   "id": "de5b5493",
   "metadata": {},
   "outputs": [
    {
     "name": "stdout",
     "output_type": "stream",
     "text": [
      "Juan Carlos\n",
      "true\n",
      "true\n"
     ]
    }
   ],
   "source": [
    "//Para definir una clase se hacia con las funciones, notacion CamelCase\n",
    "function Persona(nombre) {\n",
    "    this.nombre = nombre;\n",
    "    \n",
    "}\n",
    "//Esto es para poder expandir la clase: Herencia\n",
    "Persona.prototype.decirNombre = function(){ \n",
    "    console.log(this.nombre);\n",
    "}\n",
    "\n",
    "//Es forsozo utiliar el new al momento de crear una clase de esta forma.\n",
    "var carlos = new Persona(\"Juan Carlos\");\n",
    "carlos.decirNombre();\n",
    "\n",
    "console.log(carlos instanceof Persona);\n",
    "console.log(carlos instanceof Object);\n",
    "\n"
   ]
  },
  {
   "cell_type": "markdown",
   "id": "070c3afc",
   "metadata": {},
   "source": [
    "## Declaracion de una clase en ES6\n",
    "Principales caracteristicas de una clase:\n",
    "* La declaracion de una clase funciona de forma parecido a la declaracion LET.\n",
    "* Todo el codigo dentro de la clase funciona en modo estricto o \"strict mode\".\n",
    "* Todos los metodos no son enumerables.\n",
    "* Todos los metodos internos no tienen constructor.\n",
    "* Llamar una clase sin el new, da error.\n",
    "* Intentar renombrear el nombre de la clase dentro de algun metodo de la misma dara un error.\n",
    "* Las clases tienen metodos estaticos y privados.\n",
    "* Por defecto las clases tienen metodos publicos.\n",
    "* El \"tyepeof\" de un clase siempre es \"function\"\n"
   ]
  },
  {
   "cell_type": "code",
   "execution_count": null,
   "id": "7cbda72d",
   "metadata": {},
   "outputs": [],
   "source": [
    "class UnaPersona{\n",
    "    constructor(nombre){\n",
    "        this.nombre = nombre;\n",
    "    }\n",
    "    decirNombre(){\n",
    "        console.log(\"Mi nombre es\", this.nombre);\n",
    "    }\n",
    "}\n",
    "//Estas obligado a usar new para crear una intancia de una clase\n",
    "var carlos = new UnaPersona(\"Juan Carlos\");\n",
    "carlos.decirNombre();\n",
    "console.log(carlos instanceof UnaPersona); //True\n",
    "console.log(carlos instanceof Object); //True\n",
    "console.log(typeof Persona); //Sale 'function'"
   ]
  },
  {
   "cell_type": "markdown",
   "id": "edde553a",
   "metadata": {},
   "source": [
    "## Clases como expreciones\n"
   ]
  },
  {
   "cell_type": "code",
   "execution_count": 8,
   "id": "dd13ad8f",
   "metadata": {},
   "outputs": [
    {
     "name": "stdout",
     "output_type": "stream",
     "text": [
      "Hola mundo\n"
     ]
    }
   ],
   "source": [
    "//Funciones como expreciones\n",
    "var miFuncion = function(){\n",
    "    console.log(\"Hola mundo\");\n",
    "}\n",
    "var otraFuncion = miFuncion;\n",
    "otraFuncion(); //Se puede llamar a la funcion original con \"otra exprecion\".\n"
   ]
  },
  {
   "cell_type": "code",
   "execution_count": 17,
   "id": "1a6895a0",
   "metadata": {},
   "outputs": [
    {
     "name": "stdout",
     "output_type": "stream",
     "text": [
      "Hola mundo\n"
     ]
    }
   ],
   "source": [
    "//Clases como expreciones\n",
    "var miPersona2 = class{\n",
    "    constructor(){\n",
    "        \n",
    "    }\n",
    "    \n",
    "    saludar(){\n",
    "        console.log(\"Hola mundo\");\n",
    "    }\n",
    "}\n",
    "\n",
    "var miOtraPersona2 = new miPersona2();\n",
    "miOtraPersona2.saludar();\n"
   ]
  },
  {
   "cell_type": "markdown",
   "id": "8761aeba",
   "metadata": {},
   "source": [
    "## Clases como parametros"
   ]
  },
  {
   "cell_type": "code",
   "execution_count": 19,
   "id": "15ef9544",
   "metadata": {},
   "outputs": [
    {
     "name": "stdout",
     "output_type": "stream",
     "text": [
      "Hola \n"
     ]
    }
   ],
   "source": [
    "//EJEMPLO 1\n",
    "function creadorClases( definicionClase ){\n",
    "    return new definicionClase();   \n",
    "}\n",
    "\n",
    "var objeto = creadorClases( class{\n",
    "    constructor(){\n",
    "        this.nombre = undefined;\n",
    "        this.edad = 30;\n",
    "    }\n",
    "    saludar(){\n",
    "        console.log(\"Hola \");\n",
    "    }\n",
    "}); \n",
    "\n",
    "objeto.saludar();\n"
   ]
  },
  {
   "cell_type": "code",
   "execution_count": null,
   "id": "a9719afa",
   "metadata": {},
   "outputs": [],
   "source": [
    "//EJEMPLO 2\n",
    "class Cuadrado{\n",
    "    constructor(lado){\n",
    "        this.lado = lado;\n",
    "    }\n",
    "    getArea(){\n",
    "        return this.lado * this.lado;\n",
    "    }\n",
    "}"
   ]
  },
  {
   "cell_type": "code",
   "execution_count": 26,
   "id": "ac649151",
   "metadata": {},
   "outputs": [
    {
     "name": "stdout",
     "output_type": "stream",
     "text": [
      "100\n"
     ]
    },
    {
     "name": "stderr",
     "output_type": "stream",
     "text": [
      "El parametros no es una instancia de Cuadrado\n"
     ]
    }
   ],
   "source": [
    "function imprimirCuadrado( cuadrado ){\n",
    "    if(cuadrado instanceof Cuadrado){\n",
    "            console.log(cuadrado.getArea() ); \n",
    "    }else{\n",
    "        console.error(\"El parametros no es una instancia de Cuadrado\");\n",
    "    }   \n",
    "}\n",
    "\n",
    "var mesa = new Cuadrado(10);\n",
    "imprimirCuadrado(mesa);\n",
    "imprimirCuadrado(100);"
   ]
  },
  {
   "cell_type": "markdown",
   "id": "47e593fc",
   "metadata": {},
   "source": [
    "## Metodos estaticos y computados\n",
    "Los metodos computados son metodos que se pueden definir con una variable"
   ]
  },
  {
   "cell_type": "code",
   "execution_count": 44,
   "id": "9e29962b",
   "metadata": {},
   "outputs": [],
   "source": [
    "var nombreMetodo = \"gritarNombre\";\n",
    "class ObjPersona{\n",
    "    constructor(nombre){\n",
    "        this.nombre = nombre;     \n",
    "    }\n",
    "    \n",
    "    static crear(nombre){\n",
    "        return new ObjPersona(nombre);\n",
    "    }\n",
    "    [nombreMetodo](){\n",
    "        console.log(this.nombre.toUpperCase() );\n",
    "    }\n",
    "}"
   ]
  },
  {
   "cell_type": "code",
   "execution_count": 47,
   "id": "5035eeb4",
   "metadata": {},
   "outputs": [
    {
     "name": "stdout",
     "output_type": "stream",
     "text": [
      "ObjPersona { nombre: 'Juan Carlos' }\n",
      "JUAN CARLOS\n"
     ]
    }
   ],
   "source": [
    "var yo = ObjPersona.crear(\"Juan Carlos\");\n",
    "console.log(yo);\n",
    "yo.gritarNombre();"
   ]
  },
  {
   "cell_type": "markdown",
   "id": "905eaac8",
   "metadata": {},
   "source": [
    "## Herencia de las clases"
   ]
  },
  {
   "cell_type": "code",
   "execution_count": 53,
   "id": "ee613137",
   "metadata": {},
   "outputs": [],
   "source": [
    "class Rectanguloo{\n",
    "    constructor(alto=1,largo=1){\n",
    "        this.alto = alto;\n",
    "        this.largo = largo;\n",
    "    }\n",
    "    getArea(){\n",
    "        return this.alto * this.largo;\n",
    "    }\n",
    "}"
   ]
  },
  {
   "cell_type": "code",
   "execution_count": 55,
   "id": "68f66b4e",
   "metadata": {},
   "outputs": [],
   "source": [
    "class MiCuadradoo extends Rectanguloo{\n",
    "    constructor(alto){\n",
    "        super(alto,alto);\n",
    "    }\n",
    "}"
   ]
  },
  {
   "cell_type": "code",
   "execution_count": 56,
   "id": "094ac8c2",
   "metadata": {},
   "outputs": [
    {
     "data": {
      "text/plain": [
       "4"
      ]
     },
     "execution_count": 56,
     "metadata": {},
     "output_type": "execute_result"
    }
   ],
   "source": [
    "var quad = new MiCuadradoo(2);\n",
    "quad.getArea();"
   ]
  },
  {
   "cell_type": "markdown",
   "id": "f4c91a8a",
   "metadata": {},
   "source": [
    "## Sobreescribiendo funciones del padre"
   ]
  },
  {
   "cell_type": "code",
   "execution_count": 57,
   "id": "67305386",
   "metadata": {},
   "outputs": [],
   "source": [
    "class MiCuadradoo2 extends Rectanguloo{\n",
    "    constructor(alto){\n",
    "        super(alto,alto);\n",
    "    }\n",
    "    \n",
    "     getArea(){\n",
    "        console.log(\"Cuadrado\", this.alto * this.alto);\n",
    "    }\n",
    "    \n",
    "}"
   ]
  },
  {
   "cell_type": "code",
   "execution_count": 58,
   "id": "d5dc90ce",
   "metadata": {},
   "outputs": [
    {
     "name": "stdout",
     "output_type": "stream",
     "text": [
      "Cuadrado 100\n"
     ]
    }
   ],
   "source": [
    "var quad = new MiCuadradoo2(10);\n",
    "quad.getArea();"
   ]
  },
  {
   "cell_type": "code",
   "execution_count": null,
   "id": "801d6da9",
   "metadata": {},
   "outputs": [],
   "source": []
  }
 ],
 "metadata": {
  "kernelspec": {
   "display_name": "Javascript (Node.js)",
   "language": "javascript",
   "name": "javascript"
  },
  "language_info": {
   "file_extension": ".js",
   "mimetype": "application/javascript",
   "name": "javascript",
   "version": "14.17.1"
  }
 },
 "nbformat": 4,
 "nbformat_minor": 5
}
