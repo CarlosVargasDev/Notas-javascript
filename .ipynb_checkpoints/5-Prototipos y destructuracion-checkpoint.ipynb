{
 "cells": [
  {
   "cell_type": "markdown",
   "id": "99f4fe41",
   "metadata": {},
   "source": [
    "# Prototipos y Destructuracion"
   ]
  },
  {
   "cell_type": "markdown",
   "id": "186c3fe2",
   "metadata": {},
   "source": [
    "## Cambiar el prototipo de un objeto\n",
    "\n",
    "**Prototipos**: La programacion orientada a objetos de JS se basaba en prototipos y no en clases en el ES5. En el ES6 se introducen las clases. \n",
    "\n",
    "Los prototipos son un conjunto de normas para integrar Programacion Orientada a Objetos en JS, con los prototipos se pueden hacer tareas como: \n",
    "\n",
    " * Herencia\n",
    " * Encapsulamiento\n",
    " * Abstraccion\n",
    " * Polimorfismo\n",
    " "
   ]
  },
  {
   "cell_type": "code",
   "execution_count": 2,
   "id": "dc3b4043",
   "metadata": {},
   "outputs": [
    {
     "name": "stdout",
     "output_type": "stream",
     "text": [
      "true\n",
      "Miau\n",
      "MIAUUUU!\n",
      "----------------\n",
      "false\n",
      "Guau\n"
     ]
    },
    {
     "ename": "TypeError",
     "evalue": "angora.chillido is not a function",
     "output_type": "error",
     "traceback": [
      "evalmachine.<anonymous>:23",
      "angora.chillido();",
      "       ^",
      "",
      "TypeError: angora.chillido is not a function",
      "    at evalmachine.<anonymous>:23:8",
      "    at Script.runInThisContext (vm.js:134:12)",
      "    at Object.runInThisContext (vm.js:311:38)",
      "    at run ([eval]:1054:15)",
      "    at onRunRequest ([eval]:888:18)",
      "    at onMessage ([eval]:848:13)",
      "    at process.emit (events.js:375:28)",
      "    at emit (internal/child_process.js:910:12)",
      "    at processTicksAndRejections (internal/process/task_queues.js:83:21)"
     ]
    }
   ],
   "source": [
    "var gato = {\n",
    "    sonido(){\n",
    "        console.log(\"Miau\")\n",
    "    },\n",
    "    chillido(){\n",
    "        console.log(\"MIAUUUU!\")\n",
    "    }\n",
    "}\n",
    "var perro = {\n",
    "    sonido(){\n",
    "        console.log(\"Guau\")\n",
    "    }\n",
    "}\n",
    "\n",
    "var angora = Object.create(gato); //Tambien funciona con el operador new\n",
    "console.log( Object.getPrototypeOf(angora) == gato);\n",
    "angora.sonido();\n",
    "angora.chillido();\n",
    "console.log('----------------');\n",
    "Object.setPrototypeOf(angora, perro);\n",
    "console.log( Object.getPrototypeOf(angora) == gato);\n",
    "angora.sonido();\n",
    "angora.chillido(); //Ya no existe el chillido en el prototipo del perro"
   ]
  },
  {
   "cell_type": "markdown",
   "id": "c3c85711",
   "metadata": {},
   "source": [
    "## Acceso al prototipo con la referencia \"SUPER\"\n",
    "En el ES5, era complicado llamar a una funcion de un objeto padre"
   ]
  },
  {
   "cell_type": "code",
   "execution_count": 8,
   "id": "984a5b71",
   "metadata": {},
   "outputs": [
    {
     "name": "stdout",
     "output_type": "stream",
     "text": [
      "Hola, saludos!!!(ES5)\n"
     ]
    }
   ],
   "source": [
    "var persona ={\n",
    "    saludar(){\n",
    "        return \"Hola\";\n",
    "    }\n",
    "}\n",
    "//ES5\n",
    "var amigo = {\n",
    "    saludar(){\n",
    "        return Object.getPrototypeOf(this).saludar(this) + \", saludos!!!(ES5)\"\n",
    "    }\n",
    "}\n",
    "Object.setPrototypeOf(amigo,persona);\n",
    "console.log(amigo.saludar());"
   ]
  },
  {
   "cell_type": "code",
   "execution_count": 9,
   "id": "953eea18",
   "metadata": {},
   "outputs": [
    {
     "name": "stdout",
     "output_type": "stream",
     "text": [
      "Hola, saludos!!!(ES6)\n"
     ]
    }
   ],
   "source": [
    "//ES6\n",
    "var amigo = {\n",
    "    saludar(){\n",
    "        return super.saludar() + \", saludos!!!(ES6)\"\n",
    "    }\n",
    "}\n",
    "Object.setPrototypeOf(amigo,persona);\n",
    "console.log(amigo.saludar());\n"
   ]
  },
  {
   "cell_type": "markdown",
   "id": "a68f4cd3",
   "metadata": {},
   "source": [
    "## Destructuracion de objetos"
   ]
  },
  {
   "cell_type": "code",
   "execution_count": 10,
   "id": "15ce8044",
   "metadata": {},
   "outputs": [],
   "source": [
    "var ajustes = {\n",
    "    nombre: \"Carlos Vargas\",\n",
    "    email: \"Carlos.Vargas.Dev@gmail.com\",\n",
    "    facebook: \"Facebook_carlos_Vargas\",\n",
    "    google: \"Google_Carlos_Vargas\"\n",
    "}\n",
    "\n",
    "//ES5\n",
    "var nombre = ajustes.nombre, email = ajustes.email; //ETC"
   ]
  },
  {
   "cell_type": "code",
   "execution_count": 15,
   "id": "cab3f42c",
   "metadata": {},
   "outputs": [
    {
     "name": "stdout",
     "output_type": "stream",
     "text": [
      "Facebook_carlos_Vargas\n",
      "Facebook_carlos_Vargas\n",
      "twiterPorDefect\n"
     ]
    }
   ],
   "source": [
    "//ES6, //El orden de los nombres de la variables no afectan la destructuracion\n",
    "var {nombre,email,facebook,google} = ajustes; //Destructuracion de objetos\n",
    "var {nombre,email,facebook:cuentaFacebook} = ajustes; //Destructuracion de objetos V2\n",
    "var {nombre,email,facebook, twiter = \"twiterPorDefect\"} = ajustes; //Destructuracion de objetos V3\n",
    "//var {nombre,email,facebook, twiter:cuentaTwiter = \"twiterPorDefect2\"} = ajustes; //Destructuracion de objetos V4\n",
    "\n",
    "console.log(facebook);\n",
    "console.log(cuentaFacebook); //Cambiandole el nombre al a variable\n",
    "console.log(twiter); //Variable por defecto\n",
    "//console.log(cuentaTwiter); //Variable por defecto y nombre cambiado"
   ]
  },
  {
   "cell_type": "markdown",
   "id": "ce055ba8",
   "metadata": {},
   "source": [
    "## Destructuracion de objetos anidados"
   ]
  },
  {
   "cell_type": "code",
   "execution_count": 27,
   "id": "feaff39e",
   "metadata": {},
   "outputs": [
    {
     "name": "stdout",
     "output_type": "stream",
     "text": [
      "{ linea: 23, columna: 4 }\n",
      "{ linea: 30, columna: 11 }\n",
      "{ linea: 3, columna: 1 }\n",
      "{ linea: 3, columna: 1 }\n"
     ]
    }
   ],
   "source": [
    "var autoGuardado = {\n",
    "    archivo: \"app.js\",\n",
    "    cursor:{\n",
    "        linea:23,\n",
    "        columna:4\n",
    "    },\n",
    "    ultimoArchivo:{\n",
    "        archivo:\"app2.js\",\n",
    "        cursor:{\n",
    "            linea:30,\n",
    "            columna:11\n",
    "        },\n",
    "        otroNodo:{\n",
    "            subNodo:{\n",
    "                cursor:{\n",
    "                    linea:3,\n",
    "                    columna:1\n",
    "                }\n",
    "            }\n",
    "        }\n",
    "    }\n",
    "    \n",
    "}\n",
    "///////////////////// FORMA 1 //////////////////////\n",
    "var {cursor: cursorActivo} = autoGuardado;\n",
    "console.log(cursorActivo);\n",
    "\n",
    "var {ultimoArchivo:{cursor:cursorUltimoArchivo }} = autoGuardado;\n",
    "console.log(cursorUltimoArchivo);\n",
    "\n",
    "var {ultimoArchivo: {otroNodo:{subNodo:{cursor:superNodo} }}} = autoGuardado; //Con alias\n",
    "var {ultimoArchivo: {otroNodo:{subNodo:{cursor} }}} = autoGuardado;  //Sin alias\n",
    "console.log(superNodo); \n",
    "console.log(cursor);"
   ]
  },
  {
   "cell_type": "code",
   "execution_count": 29,
   "id": "4d750605",
   "metadata": {},
   "outputs": [
    {
     "name": "stdout",
     "output_type": "stream",
     "text": [
      "{ linea: 3, columna: 1 }\n"
     ]
    }
   ],
   "source": [
    "///////////////////// FORMA 2 //////////////////////\n",
    "var otroSuperNodo2 = autoGuardado.ultimoArchivo.otroNodo.subNodo.cursor;\n",
    "console.log(otroSuperNodo2); \n"
   ]
  },
  {
   "cell_type": "markdown",
   "id": "8635e962",
   "metadata": {},
   "source": [
    "## Destructuracio de los arreglos"
   ]
  },
  {
   "cell_type": "code",
   "execution_count": 37,
   "id": "ac13fe01",
   "metadata": {},
   "outputs": [
    {
     "name": "stdout",
     "output_type": "stream",
     "text": [
      "Pera\n",
      "Manzana\n",
      "Toronja\n"
     ]
    }
   ],
   "source": [
    "var frutas = [\"Pera\", \"Manzana\", \"Toronja\"];\n",
    "\n",
    "var [fruta1, fruta2] = frutas; //Es como con los objetos pero con [ ]\n",
    "console.log(fruta1);\n",
    "console.log(fruta2);\n",
    "\n",
    "var [,,fruta3] = frutas;\n",
    "console.log(fruta3);\n",
    "\n",
    "\n"
   ]
  },
  {
   "cell_type": "code",
   "execution_count": 39,
   "id": "25cf9118",
   "metadata": {},
   "outputs": [
    {
     "name": "stdout",
     "output_type": "stream",
     "text": [
      "1\n",
      "2\n",
      "------------------------\n",
      "2\n",
      "1\n"
     ]
    }
   ],
   "source": [
    "//Para intercambiar variables\n",
    "var a = 1;\n",
    "var b = 2;\n",
    "var tem;\n",
    "console.log(a);\n",
    "console.log(b);\n",
    "console.log(\"------------------------\");\n",
    "[a,b] = [b,a];\n",
    "console.log(a);\n",
    "console.log(b);"
   ]
  },
  {
   "cell_type": "markdown",
   "id": "bd634869",
   "metadata": {},
   "source": [
    "## Destructuracion de arreglos anidados"
   ]
  },
  {
   "cell_type": "code",
   "execution_count": 40,
   "id": "e1444b7d",
   "metadata": {},
   "outputs": [
    {
     "name": "stdout",
     "output_type": "stream",
     "text": [
      "rojo\n",
      "verde\n",
      "[ 'azul', 'violeta', 'amarillo' ]\n"
     ]
    }
   ],
   "source": [
    "// La destructuracion usando el operador rest solo funciona para los arreglos, no para los objetos\n",
    "var colores = [\"rojo\",\"verde\",\"azul\",\"violeta\",\"amarillo\"];\n",
    "var [color1,color2,...demasColores] = colores;\n",
    "\n",
    "console.log(color1);\n",
    "console.log(color2);\n",
    "console.log(demasColores);\n",
    "\n"
   ]
  },
  {
   "cell_type": "code",
   "execution_count": null,
   "id": "f6f60c35",
   "metadata": {},
   "outputs": [],
   "source": []
  },
  {
   "cell_type": "markdown",
   "id": "5e05f189",
   "metadata": {},
   "source": [
    "## Valores por defecto en la destructuracion"
   ]
  },
  {
   "cell_type": "code",
   "execution_count": 44,
   "id": "a4ea3f9c",
   "metadata": {},
   "outputs": [
    {
     "name": "stdout",
     "output_type": "stream",
     "text": [
      "platano\n",
      "fruta por defecto\n"
     ]
    }
   ],
   "source": [
    "var frutas = [\"platano\"];\n",
    "var [fruta1,fruta2 = \"fruta por defecto\"] = frutas;//Si no establesco el valor por defecto, entonces el varlo porr defecto sera undefined\n",
    "console.log(fruta1);\n",
    "console.log(fruta2);"
   ]
  },
  {
   "cell_type": "code",
   "execution_count": null,
   "id": "790f4b5f",
   "metadata": {},
   "outputs": [],
   "source": []
  },
  {
   "cell_type": "markdown",
   "id": "e2dfa7cb",
   "metadata": {},
   "source": [
    "## Destructuracion de parametros"
   ]
  },
  {
   "cell_type": "code",
   "execution_count": 45,
   "id": "1b76a7a9",
   "metadata": {},
   "outputs": [
    {
     "name": "stdout",
     "output_type": "stream",
     "text": [
      "Carlos 100 20 Mago\n"
     ]
    }
   ],
   "source": [
    "//Aqui destructuramos un objeto, y ademas le agregamos los parametros por defecto\n",
    "function crearJugador(nickName='Player',\n",
    "                     {hp,sp,clase} = {hp:\"hp por defecto\", sp:\"sp por defecto\",clase:\"clase por ...\"}){    \n",
    "    \n",
    "    console.log(nickName, hp,sp,clase);\n",
    "}\n",
    "crearJugador(\"Carlos\",{\n",
    "    hp:\"100\",\n",
    "    sp:\"20\",\n",
    "    clase:\"Mago\"\n",
    "});"
   ]
  },
  {
   "cell_type": "code",
   "execution_count": 46,
   "id": "a5cddd46",
   "metadata": {},
   "outputs": [
    {
     "name": "stdout",
     "output_type": "stream",
     "text": [
      "Carlos 100 20 Mago\n"
     ]
    }
   ],
   "source": [
    "playerDefecto = {\n",
    "    hp:\"hp por defecto\",\n",
    "    sp:\"sp por defecto\",\n",
    "    clase:\"clase por ...\"\n",
    "};\n",
    "\n",
    "function crearJugadorV2(nickName='Player',\n",
    "                     {hp,sp,clase} = playerDefecto){    \n",
    "    \n",
    "    console.log(nickName, hp,sp,clase);\n",
    "}\n",
    "crearJugador(\"Carlos\",{\n",
    "    hp:\"100\",\n",
    "    sp:\"20\",\n",
    "    clase:\"Mago\"\n",
    "});"
   ]
  },
  {
   "cell_type": "code",
   "execution_count": null,
   "id": "af390215",
   "metadata": {},
   "outputs": [],
   "source": []
  }
 ],
 "metadata": {
  "kernelspec": {
   "display_name": "Javascript (Node.js)",
   "language": "javascript",
   "name": "javascript"
  },
  "language_info": {
   "file_extension": ".js",
   "mimetype": "application/javascript",
   "name": "javascript",
   "version": "14.17.1"
  }
 },
 "nbformat": 4,
 "nbformat_minor": 5
}
