{
 "cells": [
  {
   "cell_type": "markdown",
   "id": "327f64b6",
   "metadata": {},
   "source": [
    "# Sets\n",
    "//En el js los arreglos permiten elementos duplicados\n",
    "//En el es5 solo existia un tipo de arreglo de datos, los arreglos normales\n",
    "* Es un nuevo tipo de coleccion de datos en el ES6. \n",
    "* Los sets son una lista ordenada de valores sin duplicados y son mas rapidos\n"
   ]
  },
  {
   "cell_type": "markdown",
   "id": "a34481fc",
   "metadata": {},
   "source": [
    "## Creando Sets\n",
    "Internamente el set hace comparaciones con el object.is() para verificar si hay algun elemento repetido.\n",
    "\n",
    "* Un STRING, es un arreglo de caracteres, al mandarlo al constructor de un set, lo descompone y excluye los duplicados."
   ]
  },
  {
   "cell_type": "code",
   "execution_count": 11,
   "id": "58096b90",
   "metadata": {},
   "outputs": [
    {
     "name": "stdout",
     "output_type": "stream",
     "text": [
      "Set(0) {}\n"
     ]
    }
   ],
   "source": [
    "//Crear sets\n",
    "var items = new Set();\n",
    "console.log(items);\n"
   ]
  },
  {
   "cell_type": "code",
   "execution_count": 12,
   "id": "927d2a68",
   "metadata": {},
   "outputs": [
    {
     "name": "stdout",
     "output_type": "stream",
     "text": [
      "Set(5) { 10, 11, 12, 13, '10' }\n"
     ]
    }
   ],
   "source": [
    "//Agrgando valores\n",
    "items.add(10);\n",
    "items.add(11);\n",
    "items.add(12);\n",
    "items.add(13);\n",
    "items.add(10);//No agrega duplicados\n",
    "items.add(\"10\"); //Si lo agrega porque \"10\" es una cadena\n",
    "console.log(items);"
   ]
  },
  {
   "cell_type": "code",
   "execution_count": 13,
   "id": "fb91e8cb",
   "metadata": {},
   "outputs": [
    {
     "name": "stdout",
     "output_type": "stream",
     "text": [
      "Set(5) { 8, 9, 10, 11, 12 }\n"
     ]
    }
   ],
   "source": [
    "//Crear un set apartir de un arreglo V1\n",
    "var items = new Set([8,9,10,11,12]);\n",
    "console.log(items); //Solo agrega los elementos que no estan repetidos"
   ]
  },
  {
   "cell_type": "code",
   "execution_count": 14,
   "id": "10a842d6",
   "metadata": {},
   "outputs": [
    {
     "name": "stdout",
     "output_type": "stream",
     "text": [
      "true\n",
      "false\n"
     ]
    }
   ],
   "source": [
    "//Buscar un elemtno en un set\n",
    "console.log(items.has(8));\n",
    "console.log(items.has(\"8\"));//Este elemento de tipo cadena no esta"
   ]
  },
  {
   "cell_type": "markdown",
   "id": "4f9f7882",
   "metadata": {},
   "source": [
    "## Removiendo valores\n",
    "Para borrar un elemento se tiene que elegir cual se va a eliminar, por ejemplo:\n",
    "* si quiero eliminar el numero 1, lo paso como argumento \n",
    "* si quiero eliminar la cadena \"hola\", lo paso como argumento.\n",
    "Si no encuentra el elemento, entonces no pasa nada."
   ]
  },
  {
   "cell_type": "code",
   "execution_count": 20,
   "id": "120bbeac",
   "metadata": {},
   "outputs": [
    {
     "name": "stdout",
     "output_type": "stream",
     "text": [
      "Num. Elementos 5\n",
      "Num. Elementos 4\n"
     ]
    }
   ],
   "source": [
    "var items = new Set([1,2,3,4,5]);\n",
    "console.log(\"Num. Elementos\", items.size);\n",
    "\n",
    "items.delete(3) //Elijo el elemento que quiero borrar, \n",
    "                //si el elemento no existe entonces ignora esta instruccion\n",
    "console.log(\"Num. Elementos\", items.size);"
   ]
  },
  {
   "cell_type": "code",
   "execution_count": 21,
   "id": "d4a88a64",
   "metadata": {},
   "outputs": [
    {
     "name": "stdout",
     "output_type": "stream",
     "text": [
      "Num. Elementos 0\n"
     ]
    }
   ],
   "source": [
    "//Para purgar un set\n",
    "items.clear(); //EL clear no recive argumentos, si se le envia alguno, lo ignora\n",
    "console.log(\"Num. Elementos\", items.size);"
   ]
  },
  {
   "cell_type": "markdown",
   "id": "89596bcc",
   "metadata": {},
   "source": [
    "## forEach en los Sets\n",
    "La funcion forEach funciona para los mapas y para los sets"
   ]
  },
  {
   "cell_type": "code",
   "execution_count": 23,
   "id": "f242ae94",
   "metadata": {},
   "outputs": [
    {
     "name": "stdout",
     "output_type": "stream",
     "text": [
      "Carlos Carlos Set(3) { 'Carlos', 'Vargas', 'Ibañez' }\n",
      "Vargas Vargas Set(3) { 'Carlos', 'Vargas', 'Ibañez' }\n",
      "Ibañez Ibañez Set(3) { 'Carlos', 'Vargas', 'Ibañez' }\n"
     ]
    }
   ],
   "source": [
    "var personas = new Set([\"Carlos\", \"Vargas\",\"Ibañez\"]);\n",
    "\n",
    "personas.forEach( (valor,llave,setOriginal)=>{\n",
    "    console.log(valor,llave,setOriginal);\n",
    "    //En el caso de los set, las variables \"varlor\" y \"llave\" contienen la misma informacion\n",
    "});"
   ]
  },
  {
   "cell_type": "markdown",
   "id": "3cd8419c",
   "metadata": {},
   "source": [
    "## Convertir un Set en un Array"
   ]
  },
  {
   "cell_type": "code",
   "execution_count": 27,
   "id": "fb6882d0",
   "metadata": {},
   "outputs": [
    {
     "name": "stdout",
     "output_type": "stream",
     "text": [
      "Set(7) { 1, 2, 3, 4, 5, 6, 7 }\n",
      "[\n",
      "  1, 2, 3, 4,\n",
      "  5, 6, 7\n",
      "]\n"
     ]
    }
   ],
   "source": [
    "//Tenemos un set\n",
    "var setNumeros1 = new Set([1,2,3,4,5,6,7]);\n",
    "console.log(setNumeros1);\n",
    "\n",
    "//Util para imprimir un set como un arreglo\n",
    "var arrayNumeros1 = [...setNumeros1]; //Aqui se usa el operador spread\n",
    "console.log(arrayNumeros1);"
   ]
  },
  {
   "cell_type": "code",
   "execution_count": 32,
   "id": "8200d5b8",
   "metadata": {},
   "outputs": [],
   "source": [
    "//Un ejemplo de aplicacion, es eliminar los duplicados de un arreglo, \n",
    "function eliminiarDuplicadosV1(items){\n",
    "    let set = new Set(items); //Aqui eliminamos los elementos duplicados\n",
    "    return [...set] //Retorno el set como un arreglo\n",
    "}\n",
    "\n",
    "//Version mejoada de lo anterior\n",
    "function eliminiarDuplicadosV2(items){\n",
    "    return [... new Set(items)];\n",
    "}"
   ]
  },
  {
   "cell_type": "markdown",
   "id": "f3a18fac",
   "metadata": {},
   "source": [
    "## WeakSets\n",
    "\n",
    "Trabajan de una manera similar a los Sets, el comportamiento interno es diferente.\n",
    "\n",
    "* En un weekset, ADD(), HAS(), REMOVE(), dan un error iss enviamos como parametro algo que no sea un objeto.\n",
    "* No tienen manera de hacer repeticiones o ciclos for-in\n",
    "* Los weeksets no tiene keys(), values(), por lo que no hay manera via programacion cuantos elementos hay adentro.\n",
    "* No tienen un for-each tampoco.\n",
    "* No tienen propiedad size.\n",
    "* Solo se pueden meter objetos.\n",
    "\n",
    "Los weaksets unicamente sirven para guardar la referencia a los objetos."
   ]
  },
  {
   "cell_type": "code",
   "execution_count": 33,
   "id": "a2e2a43f",
   "metadata": {},
   "outputs": [
    {
     "name": "stdout",
     "output_type": "stream",
     "text": [
      "WeakSet { <items unknown> }\n"
     ]
    }
   ],
   "source": [
    "// Ejemplo:\n",
    "\n",
    "var set = new WeakSet();\n",
    "var persona1 = {\n",
    "    nombre : 'Juan Carlos'\n",
    "}\n",
    "\n",
    "var persona2 = {\n",
    "    nombre: \"Maria Perez\"\n",
    "}\n",
    "\n",
    "set.add(persona1);\n",
    "set.add(persona2);\n",
    "set.delete(persona1);\n",
    "console.log(set);\n",
    "\n",
    "\n"
   ]
  },
  {
   "cell_type": "code",
   "execution_count": null,
   "id": "efb106a4",
   "metadata": {},
   "outputs": [],
   "source": []
  }
 ],
 "metadata": {
  "kernelspec": {
   "display_name": "Javascript (Node.js)",
   "language": "javascript",
   "name": "javascript"
  },
  "language_info": {
   "file_extension": ".js",
   "mimetype": "application/javascript",
   "name": "javascript",
   "version": "14.17.1"
  }
 },
 "nbformat": 4,
 "nbformat_minor": 5
}
