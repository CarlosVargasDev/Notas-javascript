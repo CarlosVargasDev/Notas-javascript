{
 "cells": [
  {
   "cell_type": "markdown",
   "id": "a78c7e32",
   "metadata": {},
   "source": [
    "# Promesas, Callbacks, async-await"
   ]
  },
  {
   "cell_type": "markdown",
   "id": "38235b86",
   "metadata": {},
   "source": [
    "## Promesas\n",
    "#### Problematica\n"
   ]
  },
  {
   "cell_type": "code",
   "execution_count": 7,
   "id": "2a0f26fd",
   "metadata": {},
   "outputs": [
    {
     "name": "stdout",
     "output_type": "stream",
     "text": [
      "Tarea Sincrona\n",
      "Proceso asincrono terminado\n"
     ]
    }
   ],
   "source": [
    "function tareaAsincrona(){\n",
    "    setTimeout(()=> console.log(\"Proceso asincrono terminado\"), 1300);\n",
    "}\n",
    "tareaAsincrona();\n",
    "\n",
    "console.log(\"Tarea Sincrona\");\n"
   ]
  },
  {
   "cell_type": "markdown",
   "id": "2a530903",
   "metadata": {},
   "source": [
    "#### Promesas\n",
    "* El primer parametro de la funcion en una promesa se ejecuta cuando todo sale OK.\n",
    "* El segundo parametro de la funcion en una promesa se ejecuta cuando todo sale Mal.\n"
   ]
  },
  {
   "cell_type": "code",
   "execution_count": 14,
   "id": "361b55a4",
   "metadata": {},
   "outputs": [
    {
     "name": "stdout",
     "output_type": "stream",
     "text": [
      "Tarea Sincrona\n",
      "Proceso asincrono terminado\n",
      "Todo salio bien\n"
     ]
    }
   ],
   "source": [
    "function tareaAsincrona(){\n",
    "    let promesa = new Promise( (resolve,reject)=>{\n",
    "                  setTimeout(()=> {\n",
    "                      console.log(\"Proceso asincrono terminado\");\n",
    "                      //En este ejemplo yo defino si todo sale ok o si sale mal\n",
    "                      //y yo llamo al reject() o resolve()\n",
    "                      resolve();\n",
    "                      //reject();\n",
    "                  }, 1300);\n",
    "                });\n",
    "\n",
    "    return promesa;\n",
    "}\n",
    "\n",
    "\n",
    "//Al momento de llamar una funcion que devuelve una promesa se hace lo siguiente:\n",
    "miFuncionOK = ()=>console.log(\"Todo salio bien\"); //Se ejecuta cuando la promesa se cumplio\n",
    "miFuncionMal = ()=>console.log(\"Algo salio mal\"); //Se ejecuta cuando la promesa no se cumplio\n",
    "\n",
    "//LA funcion reject(en este caso \"miFuncionMal\"), es opcional.\n",
    "tareaAsincrona().then(miFuncionOK, miFuncionMal);\n",
    "\n",
    "\n",
    "console.log(\"Tarea Sincrona\");"
   ]
  },
  {
   "cell_type": "markdown",
   "id": "a8b3e6cc",
   "metadata": {},
   "source": [
    "## CallBacks\n",
    "Es la forma tipica de manejar los procesos asincronos, aunque en realidad no son asincronos, almenos de que tengan una tarea asincrona adentro. Simplementen retrasan la accion de una funcion hasta que se realize una accion antes. \n",
    "\n",
    "El callback es una funcion normal\n"
   ]
  },
  {
   "cell_type": "code",
   "execution_count": 8,
   "id": "b884427b",
   "metadata": {},
   "outputs": [
    {
     "name": "stdout",
     "output_type": "stream",
     "text": [
      "Usuario de Base de datos { nombre: 'Fernando', id: 1 }\n"
     ]
    }
   ],
   "source": [
    "var getUsuarioById = (id, callback)=>{\n",
    "    \"use strict\";\n",
    "    \n",
    "    //////////////////// Simulacion de la base de datos ////////////////////\n",
    "    //Digamos que obtube mi usuario de la base de datos\n",
    "    const usuario = {\n",
    "        nombre: 'Fernando',\n",
    "        id\n",
    "    }\n",
    "    \n",
    "    //En este caso hacemos una simulacion de un error de la bd\n",
    "    if(id==20){\n",
    "        var error = \"usuario con el id: \" + id + \" no existe\";\n",
    "    }else{\n",
    "        var error = null;\n",
    "    }\n",
    "    //////////////////// Simulacion de la base de datos ////////////////////\n",
    "    \n",
    "    \n",
    "    //Ejecutamos el callback, es decir la funcion que recivimos como parametro\n",
    "    callback(error, usuario);\n",
    "};\n",
    "\n",
    "getUsuarioById(1, (err, user)=>{\n",
    "    if(err){\n",
    "        return console.log(err);\n",
    "    }else{\n",
    "        console.log('Usuario de Base de datos', user);\n",
    "    }\n",
    "});"
   ]
  },
  {
   "cell_type": "markdown",
   "id": "848b1960",
   "metadata": {},
   "source": [
    "## Problemas con Callbacks\n",
    "El principal problema es que conforme crece el codigo, se tiene que identar mucho y se vuelve dificil de manejar las funciones."
   ]
  },
  {
   "cell_type": "code",
   "execution_count": 11,
   "id": "6d6499c1",
   "metadata": {},
   "outputs": [],
   "source": [
    "//SIMULACION DE LA BASE DE DATOS\n",
    "const BD_empleados = [\n",
    "    {id:1, nombre:\"Carlos\"},\n",
    "    {id:2, nombre:\"Juan\"},\n",
    "    {id:3, nombre:\"Fer\"}\n",
    "];\n",
    "const BD_salarios = [\n",
    "    {id:1, salario:1000},\n",
    "    {id:1, salario:2000},\n",
    "];"
   ]
  },
  {
   "cell_type": "code",
   "execution_count": 26,
   "id": "61cfe764",
   "metadata": {},
   "outputs": [
    {
     "name": "stdout",
     "output_type": "stream",
     "text": [
      "Empleado: { id: 1, nombre: 'Carlos' }\n",
      "{ id: 1, nombre: 'Carlos', salario: 1000 }\n"
     ]
    }
   ],
   "source": [
    "var getEmpleado = (id, callback)=>{\n",
    "    //Supongamos que obtenemos el empleado de la Base de datos\n",
    "    let empleadoDB = BD_empleados.find( empleado => empleado.id === id );\n",
    "    \n",
    "    if( !empleadoDB){\n",
    "        callback(`No esiste empleado con el id ${id}`);\n",
    "    }else{\n",
    "        callback(null, empleadoDB);\n",
    "    }\n",
    "}\n",
    "\n",
    "//Aqui llamamos a la funcion getEmpleado y le pasamos un id y una funcion que sera el callback\n",
    " getEmpleado(1, (err, empleado)=>{\n",
    "     err ? console.log(err) : console.log('Empleado:',empleado);\n",
    " });\n",
    "\n"
   ]
  },
  {
   "cell_type": "code",
   "execution_count": 29,
   "id": "2773a24a",
   "metadata": {},
   "outputs": [
    {
     "name": "stdout",
     "output_type": "stream",
     "text": [
      "{ id: 1, nombre: 'Carlos', salario: 1000 }\n"
     ]
    }
   ],
   "source": [
    "var getSalario = (empleado, callback)=>{\n",
    "    //Supongamos que obtenemos el salario de la Base de datos\n",
    "    let salarioDB = BD_salarios.find( salario => salario.id === empleado.id );\n",
    "    \n",
    "    if(!salarioDB){\n",
    "        callback(`No se encontro un salario par el empleado ${empleado.nombre}`);\n",
    "    }else{\n",
    "        callback(null, {...empleado, salario:salarioDB.salario});\n",
    "    }\n",
    "    \n",
    "}\n",
    "//Aqui llamamos a la funcion getEmpleado y le pasamos un emepleado y una funcion que sera el callback\n",
    "getSalario({id:1, nombre:\"Carlos\"}, (err, respuesta)=>{\n",
    "    err ? console.log(err) : console.log(respuesta);\n",
    "    \n",
    "});"
   ]
  },
  {
   "cell_type": "markdown",
   "id": "2d3ca421",
   "metadata": {},
   "source": [
    "## Promesas vs Callbacks"
   ]
  },
  {
   "cell_type": "code",
   "execution_count": null,
   "id": "ccfe1f32",
   "metadata": {},
   "outputs": [],
   "source": [
    "//SIMULACION DE LA BASE DE DATOS\n",
    "const BD_empleados = [\n",
    "    {id:1, nombre:\"Carlos\"},\n",
    "    {id:2, nombre:\"Juan\"},\n",
    "    {id:3, nombre:\"Fer\"}\n",
    "];\n",
    "const BD_salarios = [\n",
    "    {id:1, salario:1000},\n",
    "    {id:1, salario:2000},\n",
    "];"
   ]
  },
  {
   "cell_type": "code",
   "execution_count": 42,
   "id": "9421c6a1",
   "metadata": {},
   "outputs": [
    {
     "name": "stdout",
     "output_type": "stream",
     "text": [
      "No existe empleado con el id 5 \n"
     ]
    }
   ],
   "source": [
    "//Uso de promesas\n",
    "var getEmpleado = (id)=>{\n",
    "    const promesa = new Promise( (resolve,reject)=>{\n",
    "            //Supongamos que obtenemos el empleado de la Base de datos\n",
    "            let empleadoDB = BD_empleados.find( empleado => empleado.id === id );\n",
    "            !empleadoDB ? reject(`No existe empleado con el id ${id} `) : resolve(empleadoDB);\n",
    "    });\n",
    "    \n",
    "    return promesa; //Como las promesas son asincronoas, se deve retornar la promesa.\n",
    "                    //Si no devolveria undefined.\n",
    "}\n",
    "\n",
    "var getSalario = (empleado)=>{\n",
    "    return new Promise( (resolve, reject) =>{\n",
    "            //Supongamos que obtenemos el salario de la Base de datos\n",
    "            let salarioDB = BD_salarios.find( salario => salario.id === empleado.id );\n",
    "            !salarioDB ?reject(`No se encontro un salario par el empleado ${empleado.nombre}`) : resolve({...empleado, salario:salarioDB.salario}); \n",
    "    });   \n",
    "}\n",
    "\n",
    "\n",
    "//Forma 1: Por ahora me gusta mas esta forma\n",
    " getEmpleado(5).then( empleado =>{\n",
    "     console.log(\"El empleado es:\", empleado);\n",
    "     getSalario( empleado).then( resp =>console.log(resp)); \n",
    " }).catch(err=>console.log(err));\n",
    "\n",
    "\n",
    "//Forma 2 \n",
    "/*\n",
    "getEmpleado(1).then( empleado =>{\n",
    "     console.log(\"El empleado es:\", empleado);\n",
    "     return getSalario( empleado);\n",
    " }).then( console.log )\n",
    ".catch(err=>console.log(err));\n",
    "*/\n"
   ]
  },
  {
   "cell_type": "markdown",
   "id": "e9c87acb",
   "metadata": {},
   "source": [
    "## ES7: Async\n",
    "La declaración de función async define una función asíncrona, la cual devuelve un objeto AsyncFunction.\n",
    "\n",
    "Cuando se llama a una función async, esta devuelve un elemento Promise. Cuando la función async devuelve un valor, Promise se resolverá con el valor devuelto. Si la función async genera una excepción o algún valor, Promise se rechazará con el valor generado.\n",
    "\n",
    "\n",
    "El await sirve para esperar a que temine de ejecutarse una funcion async.\n",
    "El await debe de estar en una funcion tipo async"
   ]
  },
  {
   "cell_type": "code",
   "execution_count": 58,
   "id": "adc30168",
   "metadata": {},
   "outputs": [
    {
     "name": "stdout",
     "output_type": "stream",
     "text": [
      "Hola Carlos\n"
     ]
    }
   ],
   "source": [
    "var getNombre = async ()=>{\n",
    "    return  new Promise( (resolve, reject)=>{\n",
    "       setTimeout( ()=>{\n",
    "           resolve('Carlos')\n",
    "       },3000 ); \n",
    "    });\n",
    "}\n",
    "\n",
    "var saludo = async ()=>{\n",
    "    let nombre = await getNombre();\n",
    "    return `Hola ${nombre}`;\n",
    "}\n",
    "\n",
    "saludo().then( mensaje => console.log(mensaje) );"
   ]
  },
  {
   "cell_type": "markdown",
   "id": "d1e1ff5b",
   "metadata": {},
   "source": [
    "## Ejericicio Async Await"
   ]
  },
  {
   "cell_type": "code",
   "execution_count": 75,
   "id": "9c6029cb",
   "metadata": {},
   "outputs": [
    {
     "name": "stdout",
     "output_type": "stream",
     "text": [
      "Carlos tiene un salario de 1000\n"
     ]
    }
   ],
   "source": [
    "//Uso de promesas\n",
    "var getEmpleado = async (id)=>{\n",
    "    \"use strict\"\n",
    "    //Supongamos que obtenemos el empleado de la Base de datos\n",
    "    let empleadoDB = BD_empleados.find( empleado => empleado.id === id );\n",
    "    //!empleadoDB ? throw new Error(`No existe empleado con el id ${id} `) : return empleadoDB;\n",
    "    if(!empleadoDB){\n",
    "        throw new Error(`No existe empleado con el id ${id} `)\n",
    "    }else{\n",
    "        return empleadoDB;\n",
    "    }\n",
    "}\n",
    "\n",
    "var getSalario =async (empleado)=>{\n",
    "    \"use strict\"\n",
    "    //Supongamos que obtenemos el salario de la Base de datos\n",
    "    let salarioDB = BD_salarios.find( salario => salario.id === empleado.id );\n",
    "    //!salarioDB ? throw new Error(`No se encontro un salario par el empleado ${empleado.nombre}`) : return {...empleado, salario:salarioDB.salario}; \n",
    "    if(!salarioDB){\n",
    "        throw new Error(`No se encontro un salario par el empleado ${empleado.nombre}`)    \n",
    "    }else{\n",
    "        return {...empleado, salario:salarioDB.salario};\n",
    "    }\n",
    "}\n",
    "//Forma 1: Usando async await\n",
    "\n",
    "var getInformacion = async (id)=>{\n",
    "    let empleado = await getEmpleado(id);\n",
    "    let respuesta = await getSalario(empleado);\n",
    "    \n",
    "    return `${empleado.nombre} tiene un salario de ${respuesta.salario}`;\n",
    "}\n",
    "getInformacion(1).then(console.log);\n",
    "\n",
    "\n",
    "//Forma 1: Manejando las promesas\n",
    "/*\n",
    " getEmpleado(1).then( empleado =>{\n",
    "     console.log(\"El empleado es:\", empleado);\n",
    "     getSalario( empleado).then( resp =>console.log(resp)); \n",
    " }).catch(err=>console.log(err));\n",
    "*/"
   ]
  }
 ],
 "metadata": {
  "kernelspec": {
   "display_name": "Javascript (Node.js)",
   "language": "javascript",
   "name": "javascript"
  },
  "language_info": {
   "file_extension": ".js",
   "mimetype": "application/javascript",
   "name": "javascript",
   "version": "14.17.1"
  }
 },
 "nbformat": 4,
 "nbformat_minor": 5
}
